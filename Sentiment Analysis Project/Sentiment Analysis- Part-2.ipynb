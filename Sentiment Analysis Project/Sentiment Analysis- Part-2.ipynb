{
 "cells": [
  {
   "cell_type": "markdown",
   "id": "2475092e",
   "metadata": {},
   "source": [
    "### Load The Tweets Dataset "
   ]
  },
  {
   "cell_type": "code",
   "execution_count": 20,
   "id": "de8cd2fd",
   "metadata": {},
   "outputs": [],
   "source": [
    "import numpy as np\n",
    "import pandas as pd\n",
    "pd.set_option(\"display.max_colwidth\", 200)"
   ]
  },
  {
   "cell_type": "code",
   "execution_count": 21,
   "id": "fe157846",
   "metadata": {},
   "outputs": [
    {
     "data": {
      "text/html": [
       "<div>\n",
       "<style scoped>\n",
       "    .dataframe tbody tr th:only-of-type {\n",
       "        vertical-align: middle;\n",
       "    }\n",
       "\n",
       "    .dataframe tbody tr th {\n",
       "        vertical-align: top;\n",
       "    }\n",
       "\n",
       "    .dataframe thead th {\n",
       "        text-align: right;\n",
       "    }\n",
       "</style>\n",
       "<table border=\"1\" class=\"dataframe\">\n",
       "  <thead>\n",
       "    <tr style=\"text-align: right;\">\n",
       "      <th></th>\n",
       "      <th>id</th>\n",
       "      <th>label</th>\n",
       "      <th>tweet</th>\n",
       "      <th>cleaned_tweets_w/o_SW</th>\n",
       "      <th>cleaned_tweets_with_SW</th>\n",
       "    </tr>\n",
       "  </thead>\n",
       "  <tbody>\n",
       "    <tr>\n",
       "      <th>0</th>\n",
       "      <td>1</td>\n",
       "      <td>0</td>\n",
       "      <td>#fingerprint #Pregnancy Test https://goo.gl/h1MfQV #android #apps #beautiful #cute #health #igers #iphoneonly #iphonesia #iphone</td>\n",
       "      <td>fingerprint pregnancy test android apps beautiful cute health igers iphoneonly iphonesia iphone</td>\n",
       "      <td>fingerprint pregnancy test android apps beautiful cute health igers iphoneonly iphonesia iphone</td>\n",
       "    </tr>\n",
       "    <tr>\n",
       "      <th>1</th>\n",
       "      <td>2</td>\n",
       "      <td>0</td>\n",
       "      <td>Finally a transparant silicon case ^^ Thanks to my uncle :) #yay #Sony #Xperia #S #sonyexperias… http://instagram.com/p/YGEt5JC6JM/</td>\n",
       "      <td>finally a transparant silicon case thanks to my uncle yay sony xperia s sonyexperias</td>\n",
       "      <td>finally transparant silicon case thanks uncle yay sony xperia sonyexperias</td>\n",
       "    </tr>\n",
       "    <tr>\n",
       "      <th>2</th>\n",
       "      <td>3</td>\n",
       "      <td>0</td>\n",
       "      <td>We love this! Would you go? #talk #makememories #unplug #relax #iphone #smartphone #wifi #connect... http://fb.me/6N3LsUpCu</td>\n",
       "      <td>we love this would you go talk makememories unplug relax iphone smartphone wifi connect</td>\n",
       "      <td>love talk makememories unplug relax iphone smartphone wifi connect</td>\n",
       "    </tr>\n",
       "    <tr>\n",
       "      <th>3</th>\n",
       "      <td>4</td>\n",
       "      <td>0</td>\n",
       "      <td>I'm wired I know I'm George I was made that way ;) #iphone #cute #daventry #home http://instagr.am/p/Li_5_ujS4k/</td>\n",
       "      <td>i am wired i know i am george i wa made that way iphone cute daventry home</td>\n",
       "      <td>wired know george way iphone cute daventry home</td>\n",
       "    </tr>\n",
       "    <tr>\n",
       "      <th>4</th>\n",
       "      <td>5</td>\n",
       "      <td>1</td>\n",
       "      <td>What amazing service! Apple won't even talk to me about a question I have unless I pay them $19.95 for their stupid support!</td>\n",
       "      <td>what amazing service apple will not even talk to me about a question i have unless i pay them for their stupid support</td>\n",
       "      <td>amazing service apple talk question unless pay stupid support</td>\n",
       "    </tr>\n",
       "  </tbody>\n",
       "</table>\n",
       "</div>"
      ],
      "text/plain": [
       "   id  label  \\\n",
       "0   1      0   \n",
       "1   2      0   \n",
       "2   3      0   \n",
       "3   4      0   \n",
       "4   5      1   \n",
       "\n",
       "                                                                                                                                 tweet  \\\n",
       "0     #fingerprint #Pregnancy Test https://goo.gl/h1MfQV #android #apps #beautiful #cute #health #igers #iphoneonly #iphonesia #iphone   \n",
       "1  Finally a transparant silicon case ^^ Thanks to my uncle :) #yay #Sony #Xperia #S #sonyexperias… http://instagram.com/p/YGEt5JC6JM/   \n",
       "2          We love this! Would you go? #talk #makememories #unplug #relax #iphone #smartphone #wifi #connect... http://fb.me/6N3LsUpCu   \n",
       "3                     I'm wired I know I'm George I was made that way ;) #iphone #cute #daventry #home http://instagr.am/p/Li_5_ujS4k/   \n",
       "4         What amazing service! Apple won't even talk to me about a question I have unless I pay them $19.95 for their stupid support!   \n",
       "\n",
       "                                                                                                     cleaned_tweets_w/o_SW  \\\n",
       "0                         fingerprint pregnancy test android apps beautiful cute health igers iphoneonly iphonesia iphone    \n",
       "1                                    finally a transparant silicon case thanks to my uncle yay sony xperia s sonyexperias    \n",
       "2                                 we love this would you go talk makememories unplug relax iphone smartphone wifi connect    \n",
       "3                                              i am wired i know i am george i wa made that way iphone cute daventry home    \n",
       "4  what amazing service apple will not even talk to me about a question i have unless i pay them for their stupid support    \n",
       "\n",
       "                                                                             cleaned_tweets_with_SW  \n",
       "0  fingerprint pregnancy test android apps beautiful cute health igers iphoneonly iphonesia iphone   \n",
       "1                       finally transparant silicon case thanks uncle yay sony xperia sonyexperias   \n",
       "2                               love talk makememories unplug relax iphone smartphone wifi connect   \n",
       "3                                                  wired know george way iphone cute daventry home   \n",
       "4                                    amazing service apple talk question unless pay stupid support   "
      ]
     },
     "execution_count": 21,
     "metadata": {},
     "output_type": "execute_result"
    }
   ],
   "source": [
    "data = pd.read_pickle(\"tweets_cleaned.pkl\")\n",
    "data.head()"
   ]
  },
  {
   "cell_type": "code",
   "execution_count": 22,
   "id": "47ad7bb7",
   "metadata": {},
   "outputs": [],
   "source": [
    "# 0 refers to positive sentiment, 1 is negative sentiment"
   ]
  },
  {
   "cell_type": "code",
   "execution_count": null,
   "id": "9307022d",
   "metadata": {},
   "outputs": [],
   "source": []
  },
  {
   "cell_type": "markdown",
   "id": "b20e7286",
   "metadata": {},
   "source": [
    "# 10. Word Embeddings"
   ]
  },
  {
   "cell_type": "code",
   "execution_count": 23,
   "id": "ecbefd73",
   "metadata": {},
   "outputs": [],
   "source": [
    "# path = r'D:\\OneDrive\\Google Drive Files\\Training\\1 MASTER\\NLP Master\\New Notebooks'\n",
    "# filename = path + r'\\word2vec.txt'\n",
    "# model = KeyedVectors.load_word2vec_format(filename, binary=False)"
   ]
  },
  {
   "cell_type": "code",
   "execution_count": 24,
   "id": "dfbef160",
   "metadata": {},
   "outputs": [
    {
     "data": {
      "text/plain": [
       "['fingerprint',\n",
       " 'pregnancy',\n",
       " 'test',\n",
       " 'android',\n",
       " 'apps',\n",
       " 'beautiful',\n",
       " 'cute',\n",
       " 'health',\n",
       " 'igers',\n",
       " 'iphoneonly',\n",
       " 'iphonesia',\n",
       " 'iphone']"
      ]
     },
     "execution_count": 24,
     "metadata": {},
     "output_type": "execute_result"
    }
   ],
   "source": [
    "tweets_list = list(data['cleaned_tweets_w/o_SW'].apply(lambda x: x.split()))\n",
    "tweets_list[0] # list of lists, where each tweet is a list of tokens, finally we have a list of tweets"
   ]
  },
  {
   "cell_type": "code",
   "execution_count": 25,
   "id": "7697eadd",
   "metadata": {},
   "outputs": [],
   "source": [
    "# !pip install gensim"
   ]
  },
  {
   "cell_type": "code",
   "execution_count": 76,
   "id": "e002bf6a",
   "metadata": {},
   "outputs": [],
   "source": [
    "# Creating your own Word2Vec Model & Train\n",
    "from gensim.models import Word2Vec\n",
    "# train model\n",
    "cbow_model = Word2Vec(tweets_list, vector_size = 300, window = 3, min_count=5, sg=0)"
   ]
  },
  {
   "cell_type": "code",
   "execution_count": 77,
   "id": "b0b6ceb3",
   "metadata": {},
   "outputs": [
    {
     "name": "stdout",
     "output_type": "stream",
     "text": [
      "Word2Vec<vocab=2420, vector_size=300, alpha=0.025>\n"
     ]
    }
   ],
   "source": [
    "# summarize the loaded model\n",
    "print(cbow_model)"
   ]
  },
  {
   "cell_type": "code",
   "execution_count": 78,
   "id": "27ab4625",
   "metadata": {},
   "outputs": [
    {
     "data": {
      "text/plain": [
       "['iphone',\n",
       " 'apple',\n",
       " 'i',\n",
       " 'my',\n",
       " 'the',\n",
       " 'to',\n",
       " 'a',\n",
       " 'is',\n",
       " 'samsung',\n",
       " 'it',\n",
       " 'and',\n",
       " 'you',\n",
       " 'new',\n",
       " 'twitter',\n",
       " 'for',\n",
       " 'com',\n",
       " 'phone',\n",
       " 'me',\n",
       " 'sony',\n",
       " 'not']"
      ]
     },
     "execution_count": 78,
     "metadata": {},
     "output_type": "execute_result"
    }
   ],
   "source": [
    "cbow_model.wv.index_to_key[:20]  # this your vocab "
   ]
  },
  {
   "cell_type": "code",
   "execution_count": 79,
   "id": "f5e8e4af",
   "metadata": {},
   "outputs": [
    {
     "data": {
      "text/plain": [
       "2420"
      ]
     },
     "execution_count": 79,
     "metadata": {},
     "output_type": "execute_result"
    }
   ],
   "source": [
    "len(cbow_model.wv.index_to_key)"
   ]
  },
  {
   "cell_type": "code",
   "execution_count": 80,
   "id": "f5cc3e07",
   "metadata": {},
   "outputs": [],
   "source": [
    "# Each document vector will have dimension [1 x 300]"
   ]
  },
  {
   "cell_type": "code",
   "execution_count": null,
   "id": "18780ae0",
   "metadata": {},
   "outputs": [],
   "source": []
  },
  {
   "cell_type": "code",
   "execution_count": 111,
   "id": "a500e6d8",
   "metadata": {},
   "outputs": [],
   "source": [
    "def document_vector(doc):\n",
    "    \"\"\"Create document vectors by averaging word vectors. Remove out-of-vocabulary words.\"\"\"\n",
    "    \n",
    "    # doc1 contains those words of the document which are included in the vocab\n",
    "    doc1 = [word for word in doc.split() if word in cbow_model.wv.index_to_key]\n",
    "    \n",
    "    wv1 = []  # this will contain the WE of all the vocab words from the doc\n",
    "    for word in doc1:\n",
    "        wv1.append(cbow_model.wv.get_vector(word))\n",
    "    wv1_ = np.array(wv1)\n",
    "    wv1_mean = wv1_.mean(axis=0)\n",
    "    return wv1_mean\n",
    "\n",
    "# np.mean(model[doc], axis=0)"
   ]
  },
  {
   "cell_type": "code",
   "execution_count": 112,
   "id": "86f2c495",
   "metadata": {},
   "outputs": [],
   "source": [
    "tweets_temp = data['cleaned_tweets_w/o_SW'].apply(document_vector)"
   ]
  },
  {
   "cell_type": "code",
   "execution_count": 113,
   "id": "6d991923",
   "metadata": {},
   "outputs": [
    {
     "data": {
      "text/plain": [
       "0    [0.07997607, 0.293474, -0.021608636, 0.060005073, 0.06600141, -0.40608853, 0.13082457, 0.5751103, -0.09426117, 0.039150346, -0.045154102, -0.19582038, -0.07701456, -0.07941555, -0.09803471, -0.156...\n",
       "1    [0.0059037693, 0.17382163, -0.031965863, 0.067778036, -0.031802125, -0.3008976, 0.20901914, 0.46240765, 0.049188204, -0.28368744, 0.008748335, -0.2849252, -0.014212379, 0.12226435, -0.22998452, -0...\n",
       "2    [0.016498206, 0.14017253, 0.022675788, 0.16010089, -0.048329283, -0.1778317, 0.2172064, 0.47418606, 0.10024565, -0.18243241, 0.04738049, -0.22659369, -9.981295e-05, 0.08509191, -0.22022502, -0.156...\n",
       "3    [0.056304973, 0.13165323, 0.043049376, 0.22645403, -0.07688501, -0.15711595, 0.24954543, 0.5206074, 0.15020257, -0.23757361, 0.09555426, -0.27512482, 0.040973946, 0.1435443, -0.26918602, -0.155831...\n",
       "4    [0.021529809, 0.11566198, 0.009598537, 0.20508789, -0.086675145, -0.15104221, 0.24962968, 0.4927249, 0.15590686, -0.27230245, 0.08227494, -0.2675885, 0.010829366, 0.13826883, -0.27724472, -0.18709...\n",
       "Name: cleaned_tweets_w/o_SW, dtype: object"
      ]
     },
     "execution_count": 113,
     "metadata": {},
     "output_type": "execute_result"
    }
   ],
   "source": [
    "tweets_temp[:5]  # displaying the 1st 5 tweets, as document vectors"
   ]
  },
  {
   "cell_type": "code",
   "execution_count": 114,
   "id": "14007df5",
   "metadata": {},
   "outputs": [
    {
     "data": {
      "text/plain": [
       "(300,)"
      ]
     },
     "execution_count": 114,
     "metadata": {},
     "output_type": "execute_result"
    }
   ],
   "source": [
    "tweets_temp[0].shape  # each document vecotr is 300-dimensional !!"
   ]
  },
  {
   "cell_type": "code",
   "execution_count": 115,
   "id": "3ad5dc86",
   "metadata": {},
   "outputs": [
    {
     "data": {
      "text/plain": [
       "pandas.core.series.Series"
      ]
     },
     "execution_count": 115,
     "metadata": {},
     "output_type": "execute_result"
    }
   ],
   "source": [
    "type(tweets_temp)"
   ]
  },
  {
   "cell_type": "code",
   "execution_count": null,
   "id": "c26f66a0",
   "metadata": {},
   "outputs": [],
   "source": []
  },
  {
   "cell_type": "code",
   "execution_count": 116,
   "id": "16e2f992",
   "metadata": {},
   "outputs": [
    {
     "data": {
      "text/plain": [
       "(7920, 300)"
      ]
     },
     "execution_count": 116,
     "metadata": {},
     "output_type": "execute_result"
    }
   ],
   "source": [
    "# Combining all the document vectors into a singl numpy array (tweets_vec)\n",
    "embedding_size = 300\n",
    "tweets_vec = np.ones((len(tweets_temp), embedding_size))*np.nan\n",
    "for i in range(tweets_vec.shape[0]):\n",
    "    tweets_vec[i,:] = tweets_temp.iloc[i]\n",
    "\n",
    "tweets_vec.shape # this itself is your final FEATURE MATRIX"
   ]
  },
  {
   "cell_type": "code",
   "execution_count": null,
   "id": "48d7875e",
   "metadata": {},
   "outputs": [],
   "source": []
  },
  {
   "cell_type": "code",
   "execution_count": 87,
   "id": "402b2963",
   "metadata": {},
   "outputs": [],
   "source": [
    "# Create a new DF to store these new documnent features\n",
    "df = pd.DataFrame(tweets_vec)\n",
    "df['y'] = data['label']\n",
    "df.dropna(how='any', axis=0, inplace=True)"
   ]
  },
  {
   "cell_type": "code",
   "execution_count": 88,
   "id": "cacd3bac",
   "metadata": {},
   "outputs": [
    {
     "data": {
      "text/html": [
       "<div>\n",
       "<style scoped>\n",
       "    .dataframe tbody tr th:only-of-type {\n",
       "        vertical-align: middle;\n",
       "    }\n",
       "\n",
       "    .dataframe tbody tr th {\n",
       "        vertical-align: top;\n",
       "    }\n",
       "\n",
       "    .dataframe thead th {\n",
       "        text-align: right;\n",
       "    }\n",
       "</style>\n",
       "<table border=\"1\" class=\"dataframe\">\n",
       "  <thead>\n",
       "    <tr style=\"text-align: right;\">\n",
       "      <th></th>\n",
       "      <th>0</th>\n",
       "      <th>1</th>\n",
       "      <th>2</th>\n",
       "      <th>3</th>\n",
       "      <th>4</th>\n",
       "      <th>5</th>\n",
       "      <th>6</th>\n",
       "      <th>7</th>\n",
       "      <th>8</th>\n",
       "      <th>9</th>\n",
       "      <th>...</th>\n",
       "      <th>291</th>\n",
       "      <th>292</th>\n",
       "      <th>293</th>\n",
       "      <th>294</th>\n",
       "      <th>295</th>\n",
       "      <th>296</th>\n",
       "      <th>297</th>\n",
       "      <th>298</th>\n",
       "      <th>299</th>\n",
       "      <th>y</th>\n",
       "    </tr>\n",
       "  </thead>\n",
       "  <tbody>\n",
       "    <tr>\n",
       "      <th>0</th>\n",
       "      <td>0.079976</td>\n",
       "      <td>0.293474</td>\n",
       "      <td>-0.021609</td>\n",
       "      <td>0.060005</td>\n",
       "      <td>0.066001</td>\n",
       "      <td>-0.406089</td>\n",
       "      <td>0.130825</td>\n",
       "      <td>0.575110</td>\n",
       "      <td>-0.094261</td>\n",
       "      <td>0.039150</td>\n",
       "      <td>...</td>\n",
       "      <td>0.256732</td>\n",
       "      <td>0.041669</td>\n",
       "      <td>-0.017489</td>\n",
       "      <td>0.247166</td>\n",
       "      <td>0.361355</td>\n",
       "      <td>0.017446</td>\n",
       "      <td>-0.196934</td>\n",
       "      <td>0.223411</td>\n",
       "      <td>-0.108381</td>\n",
       "      <td>0</td>\n",
       "    </tr>\n",
       "    <tr>\n",
       "      <th>1</th>\n",
       "      <td>0.005904</td>\n",
       "      <td>0.173822</td>\n",
       "      <td>-0.031966</td>\n",
       "      <td>0.067778</td>\n",
       "      <td>-0.031802</td>\n",
       "      <td>-0.300898</td>\n",
       "      <td>0.209019</td>\n",
       "      <td>0.462408</td>\n",
       "      <td>0.049188</td>\n",
       "      <td>-0.283687</td>\n",
       "      <td>...</td>\n",
       "      <td>0.255945</td>\n",
       "      <td>0.141843</td>\n",
       "      <td>0.013615</td>\n",
       "      <td>0.282416</td>\n",
       "      <td>0.293541</td>\n",
       "      <td>-0.035824</td>\n",
       "      <td>-0.173241</td>\n",
       "      <td>0.155709</td>\n",
       "      <td>-0.136512</td>\n",
       "      <td>0</td>\n",
       "    </tr>\n",
       "    <tr>\n",
       "      <th>2</th>\n",
       "      <td>0.016498</td>\n",
       "      <td>0.140173</td>\n",
       "      <td>0.022676</td>\n",
       "      <td>0.160101</td>\n",
       "      <td>-0.048329</td>\n",
       "      <td>-0.177832</td>\n",
       "      <td>0.217206</td>\n",
       "      <td>0.474186</td>\n",
       "      <td>0.100246</td>\n",
       "      <td>-0.182432</td>\n",
       "      <td>...</td>\n",
       "      <td>0.252025</td>\n",
       "      <td>0.156284</td>\n",
       "      <td>0.075745</td>\n",
       "      <td>0.271274</td>\n",
       "      <td>0.299471</td>\n",
       "      <td>0.004381</td>\n",
       "      <td>-0.052711</td>\n",
       "      <td>0.084117</td>\n",
       "      <td>-0.113255</td>\n",
       "      <td>0</td>\n",
       "    </tr>\n",
       "    <tr>\n",
       "      <th>3</th>\n",
       "      <td>0.056305</td>\n",
       "      <td>0.131653</td>\n",
       "      <td>0.043049</td>\n",
       "      <td>0.226454</td>\n",
       "      <td>-0.076885</td>\n",
       "      <td>-0.157116</td>\n",
       "      <td>0.249545</td>\n",
       "      <td>0.520607</td>\n",
       "      <td>0.150203</td>\n",
       "      <td>-0.237574</td>\n",
       "      <td>...</td>\n",
       "      <td>0.295913</td>\n",
       "      <td>0.211403</td>\n",
       "      <td>0.136778</td>\n",
       "      <td>0.362415</td>\n",
       "      <td>0.314652</td>\n",
       "      <td>0.018916</td>\n",
       "      <td>-0.003906</td>\n",
       "      <td>0.079329</td>\n",
       "      <td>-0.115577</td>\n",
       "      <td>0</td>\n",
       "    </tr>\n",
       "    <tr>\n",
       "      <th>4</th>\n",
       "      <td>0.021530</td>\n",
       "      <td>0.115662</td>\n",
       "      <td>0.009599</td>\n",
       "      <td>0.205088</td>\n",
       "      <td>-0.086675</td>\n",
       "      <td>-0.151042</td>\n",
       "      <td>0.249630</td>\n",
       "      <td>0.492725</td>\n",
       "      <td>0.155907</td>\n",
       "      <td>-0.272302</td>\n",
       "      <td>...</td>\n",
       "      <td>0.282295</td>\n",
       "      <td>0.205738</td>\n",
       "      <td>0.106733</td>\n",
       "      <td>0.327005</td>\n",
       "      <td>0.320674</td>\n",
       "      <td>0.011810</td>\n",
       "      <td>-0.031979</td>\n",
       "      <td>0.056954</td>\n",
       "      <td>-0.125649</td>\n",
       "      <td>1</td>\n",
       "    </tr>\n",
       "  </tbody>\n",
       "</table>\n",
       "<p>5 rows × 301 columns</p>\n",
       "</div>"
      ],
      "text/plain": [
       "          0         1         2         3         4         5         6  \\\n",
       "0  0.079976  0.293474 -0.021609  0.060005  0.066001 -0.406089  0.130825   \n",
       "1  0.005904  0.173822 -0.031966  0.067778 -0.031802 -0.300898  0.209019   \n",
       "2  0.016498  0.140173  0.022676  0.160101 -0.048329 -0.177832  0.217206   \n",
       "3  0.056305  0.131653  0.043049  0.226454 -0.076885 -0.157116  0.249545   \n",
       "4  0.021530  0.115662  0.009599  0.205088 -0.086675 -0.151042  0.249630   \n",
       "\n",
       "          7         8         9  ...       291       292       293       294  \\\n",
       "0  0.575110 -0.094261  0.039150  ...  0.256732  0.041669 -0.017489  0.247166   \n",
       "1  0.462408  0.049188 -0.283687  ...  0.255945  0.141843  0.013615  0.282416   \n",
       "2  0.474186  0.100246 -0.182432  ...  0.252025  0.156284  0.075745  0.271274   \n",
       "3  0.520607  0.150203 -0.237574  ...  0.295913  0.211403  0.136778  0.362415   \n",
       "4  0.492725  0.155907 -0.272302  ...  0.282295  0.205738  0.106733  0.327005   \n",
       "\n",
       "        295       296       297       298       299  y  \n",
       "0  0.361355  0.017446 -0.196934  0.223411 -0.108381  0  \n",
       "1  0.293541 -0.035824 -0.173241  0.155709 -0.136512  0  \n",
       "2  0.299471  0.004381 -0.052711  0.084117 -0.113255  0  \n",
       "3  0.314652  0.018916 -0.003906  0.079329 -0.115577  0  \n",
       "4  0.320674  0.011810 -0.031979  0.056954 -0.125649  1  \n",
       "\n",
       "[5 rows x 301 columns]"
      ]
     },
     "execution_count": 88,
     "metadata": {},
     "output_type": "execute_result"
    }
   ],
   "source": [
    "df.head()"
   ]
  },
  {
   "cell_type": "code",
   "execution_count": 89,
   "id": "7d33725d",
   "metadata": {},
   "outputs": [
    {
     "data": {
      "text/plain": [
       "(7920, 301)"
      ]
     },
     "execution_count": 89,
     "metadata": {},
     "output_type": "execute_result"
    }
   ],
   "source": [
    "df.shape"
   ]
  },
  {
   "cell_type": "code",
   "execution_count": 90,
   "id": "3b3d5a57",
   "metadata": {},
   "outputs": [
    {
     "data": {
      "text/plain": [
       "(7920, 300)"
      ]
     },
     "execution_count": 90,
     "metadata": {},
     "output_type": "execute_result"
    }
   ],
   "source": [
    "X_word_emb = df.drop('y', axis=1)\n",
    "y = df['y']\n",
    "X_word_emb.shape"
   ]
  },
  {
   "cell_type": "code",
   "execution_count": 91,
   "id": "c219b90e",
   "metadata": {},
   "outputs": [],
   "source": [
    "from sklearn.pipeline import make_pipeline, Pipeline\n",
    "from sklearn.linear_model import LogisticRegression\n",
    "from sklearn.model_selection import cross_val_score, cross_validate\n",
    "from sklearn.model_selection import StratifiedKFold\n",
    "from sklearn.preprocessing import StandardScaler\n",
    "from sklearn.feature_extraction.text import CountVectorizer"
   ]
  },
  {
   "cell_type": "code",
   "execution_count": null,
   "id": "3943f84b",
   "metadata": {},
   "outputs": [],
   "source": []
  },
  {
   "cell_type": "code",
   "execution_count": 92,
   "id": "10b75e29",
   "metadata": {},
   "outputs": [
    {
     "name": "stdout",
     "output_type": "stream",
     "text": [
      "85.51 0.24\n",
      "85.32 0.68\n"
     ]
    }
   ],
   "source": [
    "\n",
    "kfold = StratifiedKFold(n_splits=5, shuffle=True, random_state=42)\n",
    "LR1 = LogisticRegression(class_weight='balanced', solver='liblinear', penalty='l1', C=0.4, random_state=42)\n",
    "WE_pipe = Pipeline([('SC', StandardScaler()), ('LR', LR1)] )\n",
    "\n",
    "results = cross_validate(WE_pipe, X_word_emb, y, cv=kfold, scoring='accuracy', return_train_score=True)\n",
    "\n",
    "# print(results['train_score'])\n",
    "print(np.round((results['train_score'].mean())*100, 2), np.round((results['train_score'].std())*100, 2)) \n",
    "\n",
    "# print(results['test_score'])\n",
    "print(np.round((results['test_score'].mean())*100, 2), np.round((results['test_score'].std())*100, 2)) \n"
   ]
  },
  {
   "cell_type": "code",
   "execution_count": 93,
   "id": "17f5c608",
   "metadata": {},
   "outputs": [
    {
     "name": "stdout",
     "output_type": "stream",
     "text": [
      "88.95 0.08\n",
      "87.75 1.01\n"
     ]
    },
    {
     "data": {
      "text/plain": [
       "300"
      ]
     },
     "execution_count": 93,
     "metadata": {},
     "output_type": "execute_result"
    }
   ],
   "source": [
    "X = data['cleaned_tweets_w/o_SW']\n",
    "y = data['label']\n",
    "\n",
    "# we want to include only those words in the vocab which have min df of 5,\n",
    "# means select only those words which occur ATLEAST in 5 documents!! \n",
    "# AND SELECT the TOP 300 FEATURES ONLY to build the model\n",
    "CV = CountVectorizer(min_df=5, max_features=300)\n",
    "\n",
    "LR1 = LogisticRegression(class_weight='balanced', solver='liblinear', penalty='l1', C=0.4)\n",
    "CV_pipe = Pipeline([('CV', CV) , ('LR', LR1)] )\n",
    "results = cross_validate(CV_pipe, X, y, cv=kfold, scoring='accuracy', return_train_score=True)\n",
    "\n",
    "# print(results['train_score'])\n",
    "print(np.round((results['train_score'].mean())*100, 2), np.round((results['train_score'].std())*100, 2)) \n",
    "\n",
    "# print(results['test_score'])\n",
    "print(np.round((results['test_score'].mean())*100, 2), np.round((results['test_score'].std())*100, 2)) \n",
    "\n",
    "CV.fit_transform(X)\n",
    "len(CV.vocabulary_)  # no. of features AFTER applying the stopwords"
   ]
  },
  {
   "cell_type": "markdown",
   "id": "f3f88458",
   "metadata": {},
   "source": [
    "# 11. Word Embeddings from GloVe Model"
   ]
  },
  {
   "cell_type": "code",
   "execution_count": 94,
   "id": "17bbeedc",
   "metadata": {},
   "outputs": [],
   "source": [
    "from gensim.models import KeyedVectors\n",
    "from gensim.scripts.glove2word2vec import glove2word2vec"
   ]
  },
  {
   "cell_type": "code",
   "execution_count": 95,
   "id": "00836f6b",
   "metadata": {},
   "outputs": [],
   "source": [
    "# load the converted model\n",
    "filename = 'word2vec.txt'\n",
    "model = KeyedVectors.load_word2vec_format(filename, binary=False)"
   ]
  },
  {
   "cell_type": "code",
   "execution_count": 96,
   "id": "631749a3",
   "metadata": {},
   "outputs": [
    {
     "data": {
      "text/plain": [
       "array([ 0.025135, -1.1037  , -0.014392,  0.175   ,  0.45659 , -0.86727 ,\n",
       "       -0.057021, -0.66513 ,  0.35031 ,  0.46178 , -0.079201, -0.15928 ,\n",
       "       -0.29051 , -0.37331 ,  0.58284 ,  0.47992 ,  0.47444 ,  0.018436,\n",
       "        0.33742 ,  0.48474 , -1.0344  , -0.63262 , -0.043848,  0.33803 ,\n",
       "       -0.27473 ,  0.46233 ,  0.92311 ,  1.6516  , -0.99585 , -0.41202 ,\n",
       "       -0.22485 ,  0.17227 , -0.82582 ,  0.046938,  1.0012  , -0.22104 ,\n",
       "       -0.81985 ,  0.072396,  0.67151 , -0.80752 ,  0.2998  , -0.20886 ,\n",
       "       -1.3073  , -0.085651, -1.2405  , -0.59945 , -0.38276 , -0.014263,\n",
       "        0.17119 ,  0.19705 , -0.17824 , -0.11378 ,  0.24159 ,  0.057804,\n",
       "        0.044002, -1.1791  ,  0.48858 , -0.78541 ,  0.06117 ,  0.19021 ,\n",
       "       -0.27743 , -0.9376  , -0.43884 ,  0.10984 , -0.59379 , -0.13567 ,\n",
       "        0.050591, -0.062951,  1.2968  ,  0.35529 , -0.87356 ,  0.61764 ,\n",
       "       -0.23356 , -0.74894 ,  0.35229 , -0.99631 ,  0.33625 , -0.027754,\n",
       "       -0.85467 , -1.1996  ,  0.60355 ,  0.90339 , -0.6848  , -0.76649 ,\n",
       "        0.16188 , -0.12005 ,  0.43946 , -0.30027 ,  0.6662  , -0.48541 ,\n",
       "        0.036112, -0.34172 ,  0.68198 , -0.23978 ,  0.53855 ,  0.16917 ,\n",
       "        0.15406 , -0.19322 ,  0.085335,  1.0393  ], dtype=float32)"
      ]
     },
     "execution_count": 96,
     "metadata": {},
     "output_type": "execute_result"
    }
   ],
   "source": [
    "model.get_vector('analytics')"
   ]
  },
  {
   "cell_type": "code",
   "execution_count": null,
   "id": "22029e5d",
   "metadata": {},
   "outputs": [],
   "source": [
    "# model.index_to_key"
   ]
  },
  {
   "cell_type": "code",
   "execution_count": 97,
   "id": "467a726e",
   "metadata": {},
   "outputs": [],
   "source": [
    "def document_vector_GloVe(doc):\n",
    "    \"\"\"Create document vectors by averaging word vectors. Remove out-of-vocabulary words.\"\"\"\n",
    "    \n",
    "    # doc1 contains those words of the document which are included in the vocab\n",
    "    doc1 = [word for word in doc.split() if word in cbow_model.wv.index_to_key]\n",
    "    \n",
    "    wv1 = []  # this will contain the WE of all the vocab words from the doc\n",
    "    for word in doc1:\n",
    "        wv1.append(model.get_vector(word))\n",
    "    wv1_ = np.array(wv1)\n",
    "    wv1_mean = wv1_.mean(axis=0)\n",
    "    return wv1_mean\n"
   ]
  },
  {
   "cell_type": "code",
   "execution_count": null,
   "id": "b8ab6c11",
   "metadata": {},
   "outputs": [],
   "source": [
    "tweets_temp = data['cleaned_tweets_w/o_SW'].apply(document_vector_GloVe)"
   ]
  },
  {
   "cell_type": "code",
   "execution_count": null,
   "id": "d87f8af2",
   "metadata": {},
   "outputs": [],
   "source": [
    "tweets_temp[:5]  # displaying the 1st 5 tweets, as document vectors"
   ]
  },
  {
   "cell_type": "code",
   "execution_count": 109,
   "id": "52ec7fcf",
   "metadata": {},
   "outputs": [
    {
     "data": {
      "text/plain": [
       "(7920, 100)"
      ]
     },
     "execution_count": 109,
     "metadata": {},
     "output_type": "execute_result"
    }
   ],
   "source": [
    "# Combining all the document vectors into a singl numpy array (tweets_vec)\n",
    "embedding_size = 100\n",
    "tweets_vec = np.ones((len(tweets_temp), embedding_size))*np.nan\n",
    "for i in range(tweets_vec.shape[0]):\n",
    "    tweets_vec[i,:] = tweets_temp.iloc[i]\n",
    "\n",
    "# tweets_vec.shape # this itself is your final FEATURE MATRIX\n",
    "# Create a new DF to store these new documnent features\n",
    "df1 = pd.DataFrame(tweets_vec)\n",
    "df1['y'] = data['label']\n",
    "df1.dropna(how='any', axis=0, inplace=True)\n",
    "\n",
    "X_word_emb = df1.drop('y', axis=1)\n",
    "y = df1['y']\n",
    "X_word_emb.shape"
   ]
  },
  {
   "cell_type": "code",
   "execution_count": 110,
   "id": "b09b6058",
   "metadata": {},
   "outputs": [
    {
     "name": "stdout",
     "output_type": "stream",
     "text": [
      "87.22 0.03\n",
      "86.29 0.67\n"
     ]
    }
   ],
   "source": [
    "\n",
    "kfold = StratifiedKFold(n_splits=5, shuffle=True, random_state=42)\n",
    "LR1 = LogisticRegression(class_weight='balanced', solver='liblinear', penalty='l1', C=0.4, random_state=42)\n",
    "WE_pipe = Pipeline([('SC', StandardScaler()), ('LR', LR1)] )\n",
    "\n",
    "results = cross_validate(WE_pipe, X_word_emb, y, cv=kfold, scoring='accuracy', return_train_score=True)\n",
    "\n",
    "# print(results['train_score'])\n",
    "print(np.round((results['train_score'].mean())*100, 2), np.round((results['train_score'].std())*100, 2)) \n",
    "\n",
    "# print(results['test_score'])\n",
    "print(np.round((results['test_score'].mean())*100, 2), np.round((results['test_score'].std())*100, 2)) \n"
   ]
  },
  {
   "cell_type": "code",
   "execution_count": null,
   "id": "aa9220b2",
   "metadata": {},
   "outputs": [],
   "source": []
  },
  {
   "cell_type": "code",
   "execution_count": null,
   "id": "0e601473",
   "metadata": {},
   "outputs": [],
   "source": []
  }
 ],
 "metadata": {
  "kernelspec": {
   "display_name": "Python 3 (ipykernel)",
   "language": "python",
   "name": "python3"
  },
  "language_info": {
   "codemirror_mode": {
    "name": "ipython",
    "version": 3
   },
   "file_extension": ".py",
   "mimetype": "text/x-python",
   "name": "python",
   "nbconvert_exporter": "python",
   "pygments_lexer": "ipython3",
   "version": "3.8.10"
  }
 },
 "nbformat": 4,
 "nbformat_minor": 5
}
