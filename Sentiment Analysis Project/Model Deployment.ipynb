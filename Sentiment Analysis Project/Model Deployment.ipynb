{
 "cells": [
  {
   "cell_type": "markdown",
   "id": "4aba9f9b",
   "metadata": {},
   "source": [
    "### Load The Tweets Dataset "
   ]
  },
  {
   "cell_type": "code",
   "execution_count": 70,
   "id": "49554eb7",
   "metadata": {},
   "outputs": [],
   "source": [
    "import numpy as np\n",
    "import pandas as pd\n",
    "from sklearn.pipeline import make_pipeline, Pipeline\n",
    "from sklearn.linear_model import LogisticRegression\n",
    "from sklearn.model_selection import cross_val_score, cross_validate\n",
    "from sklearn.model_selection import StratifiedKFold\n",
    "from sklearn.preprocessing import StandardScaler\n",
    "from sklearn.feature_extraction.text import CountVectorizer\n",
    "from sklearn.model_selection import train_test_split\n",
    "\n",
    "pd.set_option(\"display.max_colwidth\", 200)"
   ]
  },
  {
   "cell_type": "code",
   "execution_count": 71,
   "id": "1bbd6085",
   "metadata": {},
   "outputs": [
    {
     "data": {
      "text/html": [
       "<div>\n",
       "<style scoped>\n",
       "    .dataframe tbody tr th:only-of-type {\n",
       "        vertical-align: middle;\n",
       "    }\n",
       "\n",
       "    .dataframe tbody tr th {\n",
       "        vertical-align: top;\n",
       "    }\n",
       "\n",
       "    .dataframe thead th {\n",
       "        text-align: right;\n",
       "    }\n",
       "</style>\n",
       "<table border=\"1\" class=\"dataframe\">\n",
       "  <thead>\n",
       "    <tr style=\"text-align: right;\">\n",
       "      <th></th>\n",
       "      <th>label</th>\n",
       "      <th>cleaned_tweets_incl_SW</th>\n",
       "      <th>cleaned_tweets_SW_removed</th>\n",
       "      <th>cleaned_tweets_SW_removed_len_gt2</th>\n",
       "    </tr>\n",
       "  </thead>\n",
       "  <tbody>\n",
       "    <tr>\n",
       "      <th>0</th>\n",
       "      <td>0</td>\n",
       "      <td>fingerprint pregnancy test android apps beautiful cute health igers iphoneonly iphonesia iphone</td>\n",
       "      <td>fingerprint pregnancy test android apps beautiful cute health igers iphoneonly iphonesia iphone</td>\n",
       "      <td>fingerprint pregnancy test android apps beautiful cute health igers iphoneonly iphonesia iphone</td>\n",
       "    </tr>\n",
       "    <tr>\n",
       "      <th>1</th>\n",
       "      <td>0</td>\n",
       "      <td>finally a transparant silicon case thanks to my uncle yay sony xperia s sonyexperias</td>\n",
       "      <td>finally transparant silicon case thanks uncle yay sony xperia sonyexperias</td>\n",
       "      <td>finally transparant silicon case thanks uncle yay sony xperia sonyexperias</td>\n",
       "    </tr>\n",
       "    <tr>\n",
       "      <th>2</th>\n",
       "      <td>0</td>\n",
       "      <td>we love this would you go talk makememories unplug relax iphone smartphone wifi connect</td>\n",
       "      <td>love talk makememories unplug relax iphone smartphone wifi connect</td>\n",
       "      <td>love talk makememories unplug relax iphone smartphone wifi connect</td>\n",
       "    </tr>\n",
       "    <tr>\n",
       "      <th>3</th>\n",
       "      <td>0</td>\n",
       "      <td>i am wired i know i am george i wa made that way iphone cute daventry home</td>\n",
       "      <td>wired know george way iphone cute daventry home</td>\n",
       "      <td>wired know george way iphone cute daventry home</td>\n",
       "    </tr>\n",
       "    <tr>\n",
       "      <th>4</th>\n",
       "      <td>1</td>\n",
       "      <td>what amazing service apple will not even talk to me about a question i have unless i pay them for their stupid support</td>\n",
       "      <td>amazing service apple talk question unless pay stupid support</td>\n",
       "      <td>amazing service apple talk question unless pay stupid support</td>\n",
       "    </tr>\n",
       "    <tr>\n",
       "      <th>5</th>\n",
       "      <td>1</td>\n",
       "      <td>iphone software update fucked up my phone big time stupid iphones</td>\n",
       "      <td>iphone software update fucked phone big time stupid iphones</td>\n",
       "      <td>iphone software update fucked big time stupid iphones</td>\n",
       "    </tr>\n",
       "    <tr>\n",
       "      <th>6</th>\n",
       "      <td>0</td>\n",
       "      <td>happy for u instapic instadaily u sony xperia xperiaz</td>\n",
       "      <td>happy instapic instadaily sony xperia xperiaz</td>\n",
       "      <td>happy instapic instadaily sony xperia xperiaz</td>\n",
       "    </tr>\n",
       "    <tr>\n",
       "      <th>7</th>\n",
       "      <td>0</td>\n",
       "      <td>new type c charger cable uk bay amazon etsy new year rob cross toby young evemun mcmafia taylor spectre newyear starting recipe technology samsunggalaxys iphonex pic twitter com pjiwq wtc</td>\n",
       "      <td>new type c charger cable uk bay amazon etsy new year rob cross toby young evemun mcmafia taylor spectre newyear starting recipe technology samsunggalaxys iphonex pic twitter com pjiwq wtc</td>\n",
       "      <td>new type charger cable bay amazon etsy new year rob cross toby young evemun mcmafia taylor spectre newyear starting recipe technology samsunggalaxys iphonex</td>\n",
       "    </tr>\n",
       "    <tr>\n",
       "      <th>8</th>\n",
       "      <td>0</td>\n",
       "      <td>bout to go shopping again listening to music iphone justme music likeforlike followforfollow</td>\n",
       "      <td>bout shopping listening music iphone justme music likeforlike followforfollow</td>\n",
       "      <td>bout shopping listening music iphone justme music likeforlike followforfollow</td>\n",
       "    </tr>\n",
       "    <tr>\n",
       "      <th>9</th>\n",
       "      <td>0</td>\n",
       "      <td>photo fun selfie pool water sony camera picoftheday sun instagood boy cute outdoor</td>\n",
       "      <td>photo fun selfie pool water sony camera picoftheday sun instagood boy cute outdoor</td>\n",
       "      <td>photo fun selfie pool water sony camera picoftheday sun instagood boy cute outdoor</td>\n",
       "    </tr>\n",
       "  </tbody>\n",
       "</table>\n",
       "</div>"
      ],
      "text/plain": [
       "   label  \\\n",
       "0      0   \n",
       "1      0   \n",
       "2      0   \n",
       "3      0   \n",
       "4      1   \n",
       "5      1   \n",
       "6      0   \n",
       "7      0   \n",
       "8      0   \n",
       "9      0   \n",
       "\n",
       "                                                                                                                                                                         cleaned_tweets_incl_SW  \\\n",
       "0                                                                                              fingerprint pregnancy test android apps beautiful cute health igers iphoneonly iphonesia iphone    \n",
       "1                                                                                                         finally a transparant silicon case thanks to my uncle yay sony xperia s sonyexperias    \n",
       "2                                                                                                      we love this would you go talk makememories unplug relax iphone smartphone wifi connect    \n",
       "3                                                                                                                   i am wired i know i am george i wa made that way iphone cute daventry home    \n",
       "4                                                                       what amazing service apple will not even talk to me about a question i have unless i pay them for their stupid support    \n",
       "5                                                                                                                            iphone software update fucked up my phone big time stupid iphones    \n",
       "6                                                                                                                                        happy for u instapic instadaily u sony xperia xperiaz    \n",
       "7  new type c charger cable uk bay amazon etsy new year rob cross toby young evemun mcmafia taylor spectre newyear starting recipe technology samsunggalaxys iphonex pic twitter com pjiwq wtc    \n",
       "8                                                                                                 bout to go shopping again listening to music iphone justme music likeforlike followforfollow    \n",
       "9                                                                                                           photo fun selfie pool water sony camera picoftheday sun instagood boy cute outdoor    \n",
       "\n",
       "                                                                                                                                                                     cleaned_tweets_SW_removed  \\\n",
       "0                                                                                              fingerprint pregnancy test android apps beautiful cute health igers iphoneonly iphonesia iphone   \n",
       "1                                                                                                                   finally transparant silicon case thanks uncle yay sony xperia sonyexperias   \n",
       "2                                                                                                                           love talk makememories unplug relax iphone smartphone wifi connect   \n",
       "3                                                                                                                                              wired know george way iphone cute daventry home   \n",
       "4                                                                                                                                amazing service apple talk question unless pay stupid support   \n",
       "5                                                                                                                                  iphone software update fucked phone big time stupid iphones   \n",
       "6                                                                                                                                                happy instapic instadaily sony xperia xperiaz   \n",
       "7  new type c charger cable uk bay amazon etsy new year rob cross toby young evemun mcmafia taylor spectre newyear starting recipe technology samsunggalaxys iphonex pic twitter com pjiwq wtc   \n",
       "8                                                                                                                bout shopping listening music iphone justme music likeforlike followforfollow   \n",
       "9                                                                                                           photo fun selfie pool water sony camera picoftheday sun instagood boy cute outdoor   \n",
       "\n",
       "                                                                                                                              cleaned_tweets_SW_removed_len_gt2  \n",
       "0                                                               fingerprint pregnancy test android apps beautiful cute health igers iphoneonly iphonesia iphone  \n",
       "1                                                                                    finally transparant silicon case thanks uncle yay sony xperia sonyexperias  \n",
       "2                                                                                            love talk makememories unplug relax iphone smartphone wifi connect  \n",
       "3                                                                                                               wired know george way iphone cute daventry home  \n",
       "4                                                                                                 amazing service apple talk question unless pay stupid support  \n",
       "5                                                                                                         iphone software update fucked big time stupid iphones  \n",
       "6                                                                                                                 happy instapic instadaily sony xperia xperiaz  \n",
       "7  new type charger cable bay amazon etsy new year rob cross toby young evemun mcmafia taylor spectre newyear starting recipe technology samsunggalaxys iphonex  \n",
       "8                                                                                 bout shopping listening music iphone justme music likeforlike followforfollow  \n",
       "9                                                                            photo fun selfie pool water sony camera picoftheday sun instagood boy cute outdoor  "
      ]
     },
     "execution_count": 71,
     "metadata": {},
     "output_type": "execute_result"
    }
   ],
   "source": [
    "data = pd.read_pickle(\"cleaned_tweets.pkl\")\n",
    "data.head(10)"
   ]
  },
  {
   "cell_type": "code",
   "execution_count": 73,
   "id": "5a94c626",
   "metadata": {},
   "outputs": [],
   "source": [
    "data.to_pickle(\"whatevername.pkl\")"
   ]
  },
  {
   "cell_type": "code",
   "execution_count": 6,
   "id": "083a9104",
   "metadata": {},
   "outputs": [],
   "source": [
    "# 0 refers to positive sentiment, 1 is negative sentiment"
   ]
  },
  {
   "cell_type": "markdown",
   "id": "d57523d3",
   "metadata": {},
   "source": [
    "# ML Model for Sentiment analysis"
   ]
  },
  {
   "cell_type": "code",
   "execution_count": 72,
   "id": "e7d9e882",
   "metadata": {},
   "outputs": [],
   "source": [
    "from sklearn.linear_model import LogisticRegression\n",
    "from sklearn.model_selection import train_test_split\n",
    "from sklearn.model_selection import cross_val_score, cross_validate\n",
    "from sklearn.model_selection import StratifiedKFold\n",
    "from sklearn.pipeline import make_pipeline, Pipeline"
   ]
  },
  {
   "cell_type": "code",
   "execution_count": 61,
   "id": "d16bd2cf",
   "metadata": {},
   "outputs": [
    {
     "name": "stdout",
     "output_type": "stream",
     "text": [
      "86.31 1.37\n"
     ]
    },
    {
     "data": {
      "text/plain": [
       "1000"
      ]
     },
     "execution_count": 61,
     "metadata": {},
     "output_type": "execute_result"
    }
   ],
   "source": [
    "X = data['cleaned_tweets_SW_removed_len_gt2']\n",
    "y = data['label']\n",
    "\n",
    "kfold = StratifiedKFold(n_splits=5, shuffle=True, random_state=42)\n",
    "\n",
    "CV = CountVectorizer(min_df=10, max_features=1000)\n",
    "LR1 = LogisticRegression(class_weight='balanced', solver='liblinear', penalty='l1', C=0.4)\n",
    "\n",
    "CV_pipe = Pipeline([('CV', CV) , ('LR', LR1)] )\n",
    "\n",
    "results = cross_val_score(CV_pipe, X, y, cv=kfold, scoring='accuracy')\n",
    "print(np.round((results.mean())*100, 2), np.round((results.std())*100, 2)) \n",
    "\n",
    "CV_pipe.fit(X,y)\n",
    "len(CV_pipe['CV'].vocabulary_) "
   ]
  },
  {
   "cell_type": "code",
   "execution_count": 74,
   "id": "885ac71c",
   "metadata": {},
   "outputs": [
    {
     "data": {
      "text/plain": [
       "array([1])"
      ]
     },
     "execution_count": 74,
     "metadata": {},
     "output_type": "execute_result"
    }
   ],
   "source": [
    "test_tweeet = [\"amazing service apple talk question unless pay stupid support\"]\n",
    "CV_pipe.predict(test_tweeet)"
   ]
  },
  {
   "cell_type": "code",
   "execution_count": 75,
   "id": "de64c384",
   "metadata": {},
   "outputs": [
    {
     "data": {
      "text/plain": [
       "'/home/DataHour/Sentiment Analysis Project'"
      ]
     },
     "execution_count": 75,
     "metadata": {},
     "output_type": "execute_result"
    }
   ],
   "source": [
    "pwd"
   ]
  },
  {
   "cell_type": "code",
   "execution_count": 67,
   "id": "9c94f72e",
   "metadata": {},
   "outputs": [],
   "source": [
    "import pickle\n",
    "with open(r'LR_Pipeline.pickle', 'wb') as handle:\n",
    "\tpickle.dump(CV_pipe, handle, protocol=pickle.HIGHEST_PROTOCOL)"
   ]
  },
  {
   "cell_type": "code",
   "execution_count": 76,
   "id": "8a599025",
   "metadata": {},
   "outputs": [],
   "source": [
    "with open(r'LR_Pipeline.pickle', 'rb') as handle:\n",
    "    LR_pipeline = pickle.load(handle)"
   ]
  },
  {
   "cell_type": "code",
   "execution_count": 77,
   "id": "982cb175",
   "metadata": {},
   "outputs": [
    {
     "data": {
      "text/plain": [
       "array([1])"
      ]
     },
     "execution_count": 77,
     "metadata": {},
     "output_type": "execute_result"
    }
   ],
   "source": [
    "LR_pipeline.predict(test_tweeet)"
   ]
  },
  {
   "cell_type": "code",
   "execution_count": null,
   "id": "5a72c28e",
   "metadata": {},
   "outputs": [],
   "source": []
  },
  {
   "cell_type": "code",
   "execution_count": null,
   "id": "3b97f81d",
   "metadata": {},
   "outputs": [],
   "source": []
  },
  {
   "cell_type": "markdown",
   "id": "a1de167e",
   "metadata": {},
   "source": [
    "# Simple Deep Learning Model with OHE (Binary) Features"
   ]
  },
  {
   "cell_type": "code",
   "execution_count": 26,
   "id": "0c9adad2",
   "metadata": {},
   "outputs": [],
   "source": [
    "from keras.utils.vis_utils import plot_model\n",
    "from keras.models import Sequential\n",
    "from keras.layers import Dense, Dropout\n",
    "from keras.callbacks import ModelCheckpoint\n",
    "import pydot\n",
    "import keras.backend as K"
   ]
  },
  {
   "cell_type": "code",
   "execution_count": 8,
   "id": "c318ffd8",
   "metadata": {},
   "outputs": [],
   "source": [
    "# This user-defined function return a Deep Learning Model\n",
    "\n",
    "def define_model(n_words):\n",
    "    # define network\n",
    "    model = Sequential()\n",
    "    model.add(Dense(64, input_shape=(n_words,), activation='relu', kernel_regularizer='l2'))\n",
    "#     model.add(Dropout(0.25))\n",
    "    model.add(Dense(32, activation='relu', kernel_regularizer='l2'))\n",
    "#     model.add(Dropout(0.25))\n",
    "    model.add(Dense(1, activation='sigmoid'))\n",
    "    \n",
    "    # compile network\n",
    "    model.compile(loss='binary_crossentropy', optimizer='adam', metrics=['accuracy'])\n",
    "    \n",
    "    # summarize defined model\n",
    "    model.summary()    \n",
    "    plot_model(model, to_file='model1.png', show_shapes=True)\n",
    "    return model"
   ]
  },
  {
   "cell_type": "code",
   "execution_count": 10,
   "id": "63028d2d",
   "metadata": {},
   "outputs": [],
   "source": [
    "# fit a tokenizer\n",
    "from keras.preprocessing.text import Tokenizer\n",
    "def create_tokenizer(lines):\n",
    "    tokenizer = Tokenizer() # num_words=1000\n",
    "    tokenizer.fit_on_texts(lines)\n",
    "    return tokenizer"
   ]
  },
  {
   "cell_type": "code",
   "execution_count": 13,
   "id": "d3b2bcc0",
   "metadata": {},
   "outputs": [],
   "source": [
    "# create the tokenizer\n",
    "train_docs = data['cleaned_tweets_SW_removed_len_gt2']\n",
    "tokenizer = create_tokenizer(train_docs)"
   ]
  },
  {
   "cell_type": "code",
   "execution_count": 14,
   "id": "75ad7ecc",
   "metadata": {},
   "outputs": [],
   "source": [
    "# encode data\n",
    "X = tokenizer.texts_to_matrix(train_docs, mode='binary')"
   ]
  },
  {
   "cell_type": "code",
   "execution_count": null,
   "id": "bcd879b0",
   "metadata": {},
   "outputs": [],
   "source": [
    "import pickle\n",
    "with open(r'tokenizer.pickle', 'wb') as handle:\n",
    "\tpickle.dump(tokenizer, handle, protocol=pickle.HIGHEST_PROTOCOL)\n"
   ]
  },
  {
   "cell_type": "code",
   "execution_count": 15,
   "id": "504f57f2",
   "metadata": {},
   "outputs": [
    {
     "data": {
      "text/plain": [
       "(7920, 13634)"
      ]
     },
     "execution_count": 15,
     "metadata": {},
     "output_type": "execute_result"
    }
   ],
   "source": [
    "X.shape"
   ]
  },
  {
   "cell_type": "code",
   "execution_count": 16,
   "id": "f3847af4",
   "metadata": {},
   "outputs": [
    {
     "data": {
      "text/plain": [
       "array([0., 1., 0., ..., 0., 0., 0.])"
      ]
     },
     "execution_count": 16,
     "metadata": {},
     "output_type": "execute_result"
    }
   ],
   "source": [
    "X[0]"
   ]
  },
  {
   "cell_type": "code",
   "execution_count": 17,
   "id": "187f073e",
   "metadata": {},
   "outputs": [],
   "source": [
    "y = data['label']"
   ]
  },
  {
   "cell_type": "code",
   "execution_count": 18,
   "id": "795a59a5",
   "metadata": {},
   "outputs": [],
   "source": [
    "Xtrain, Xtest, ytrain, ytest = train_test_split(X, y,  test_size=0.2,random_state=42) "
   ]
  },
  {
   "cell_type": "code",
   "execution_count": 19,
   "id": "2b9e1984",
   "metadata": {},
   "outputs": [
    {
     "data": {
      "text/plain": [
       "((6336, 13634), (1584, 13634))"
      ]
     },
     "execution_count": 19,
     "metadata": {},
     "output_type": "execute_result"
    }
   ],
   "source": [
    "Xtrain.shape, Xtest.shape"
   ]
  },
  {
   "cell_type": "code",
   "execution_count": 31,
   "id": "dd51f948",
   "metadata": {},
   "outputs": [
    {
     "name": "stdout",
     "output_type": "stream",
     "text": [
      "Model: \"sequential\"\n",
      "_________________________________________________________________\n",
      " Layer (type)                Output Shape              Param #   \n",
      "=================================================================\n",
      " dense (Dense)               (None, 64)                872640    \n",
      "                                                                 \n",
      " dense_1 (Dense)             (None, 32)                2080      \n",
      "                                                                 \n",
      " dense_2 (Dense)             (None, 1)                 33        \n",
      "                                                                 \n",
      "=================================================================\n",
      "Total params: 874,753\n",
      "Trainable params: 874,753\n",
      "Non-trainable params: 0\n",
      "_________________________________________________________________\n"
     ]
    }
   ],
   "source": [
    "# define network\n",
    "K.clear_session() \n",
    "n_words = Xtrain.shape[1]\n",
    "model = define_model(n_words)"
   ]
  },
  {
   "attachments": {
    "e0e09fe8-1ff4-4db9-854b-06cd4bf8672f.png": {
     "image/png": "[encoded data removed]"
    }
   },
   "cell_type": "markdown",
   "id": "a8eda84f",
   "metadata": {},
   "source": [
    "![model1.png](attachment:e0e09fe8-1ff4-4db9-854b-06cd4bf8672f.png)"
   ]
  },
  {
   "cell_type": "code",
   "execution_count": 21,
   "id": "843c6c19",
   "metadata": {},
   "outputs": [
    {
     "name": "stdout",
     "output_type": "stream",
     "text": [
      "Epoch 1/25\n",
      "\n",
      "Epoch 1: val_loss improved from inf to 0.83498, saving model to BestModel.h5\n",
      "32/32 - 5s - loss: 1.2330 - accuracy: 0.7417 - val_loss: 0.8350 - val_accuracy: 0.7587 - 5s/epoch - 159ms/step\n",
      "Epoch 2/25\n",
      "\n",
      "Epoch 2: val_loss improved from 0.83498 to 0.64735, saving model to BestModel.h5\n",
      "32/32 - 1s - loss: 0.7255 - accuracy: 0.7994 - val_loss: 0.6474 - val_accuracy: 0.8486 - 660ms/epoch - 21ms/step\n",
      "Epoch 3/25\n",
      "\n",
      "Epoch 3: val_loss improved from 0.64735 to 0.56369, saving model to BestModel.h5\n",
      "32/32 - 1s - loss: 0.5991 - accuracy: 0.8522 - val_loss: 0.5637 - val_accuracy: 0.8502 - 648ms/epoch - 20ms/step\n",
      "Epoch 4/25\n",
      "\n",
      "Epoch 4: val_loss improved from 0.56369 to 0.50893, saving model to BestModel.h5\n",
      "32/32 - 1s - loss: 0.5283 - accuracy: 0.8711 - val_loss: 0.5089 - val_accuracy: 0.8596 - 658ms/epoch - 21ms/step\n",
      "Epoch 5/25\n",
      "\n",
      "Epoch 5: val_loss improved from 0.50893 to 0.47385, saving model to BestModel.h5\n",
      "32/32 - 1s - loss: 0.4799 - accuracy: 0.8772 - val_loss: 0.4738 - val_accuracy: 0.8565 - 652ms/epoch - 20ms/step\n",
      "Epoch 6/25\n",
      "\n",
      "Epoch 6: val_loss improved from 0.47385 to 0.44913, saving model to BestModel.h5\n",
      "32/32 - 1s - loss: 0.4462 - accuracy: 0.8860 - val_loss: 0.4491 - val_accuracy: 0.8659 - 646ms/epoch - 20ms/step\n",
      "Epoch 7/25\n",
      "\n",
      "Epoch 7: val_loss improved from 0.44913 to 0.43235, saving model to BestModel.h5\n",
      "32/32 - 1s - loss: 0.4225 - accuracy: 0.8899 - val_loss: 0.4323 - val_accuracy: 0.8580 - 650ms/epoch - 20ms/step\n",
      "Epoch 8/25\n",
      "\n",
      "Epoch 8: val_loss improved from 0.43235 to 0.41925, saving model to BestModel.h5\n",
      "32/32 - 1s - loss: 0.4038 - accuracy: 0.8958 - val_loss: 0.4193 - val_accuracy: 0.8722 - 645ms/epoch - 20ms/step\n",
      "Epoch 9/25\n",
      "\n",
      "Epoch 9: val_loss improved from 0.41925 to 0.41287, saving model to BestModel.h5\n",
      "32/32 - 1s - loss: 0.3911 - accuracy: 0.8990 - val_loss: 0.4129 - val_accuracy: 0.8675 - 647ms/epoch - 20ms/step\n",
      "Epoch 10/25\n",
      "\n",
      "Epoch 10: val_loss improved from 0.41287 to 0.40630, saving model to BestModel.h5\n",
      "32/32 - 1s - loss: 0.3808 - accuracy: 0.9025 - val_loss: 0.4063 - val_accuracy: 0.8722 - 655ms/epoch - 20ms/step\n",
      "Epoch 11/25\n",
      "\n",
      "Epoch 11: val_loss improved from 0.40630 to 0.40035, saving model to BestModel.h5\n",
      "32/32 - 1s - loss: 0.3732 - accuracy: 0.9074 - val_loss: 0.4004 - val_accuracy: 0.8691 - 643ms/epoch - 20ms/step\n",
      "Epoch 12/25\n",
      "\n",
      "Epoch 12: val_loss improved from 0.40035 to 0.39684, saving model to BestModel.h5\n",
      "32/32 - 1s - loss: 0.3661 - accuracy: 0.9111 - val_loss: 0.3968 - val_accuracy: 0.8707 - 643ms/epoch - 20ms/step\n",
      "Epoch 13/25\n",
      "\n",
      "Epoch 13: val_loss improved from 0.39684 to 0.39561, saving model to BestModel.h5\n",
      "32/32 - 1s - loss: 0.3592 - accuracy: 0.9137 - val_loss: 0.3956 - val_accuracy: 0.8754 - 642ms/epoch - 20ms/step\n",
      "Epoch 14/25\n",
      "\n",
      "Epoch 14: val_loss improved from 0.39561 to 0.39184, saving model to BestModel.h5\n",
      "32/32 - 1s - loss: 0.3544 - accuracy: 0.9123 - val_loss: 0.3918 - val_accuracy: 0.8817 - 642ms/epoch - 20ms/step\n",
      "Epoch 15/25\n",
      "\n",
      "Epoch 15: val_loss did not improve from 0.39184\n",
      "32/32 - 1s - loss: 0.3504 - accuracy: 0.9160 - val_loss: 0.3919 - val_accuracy: 0.8659 - 630ms/epoch - 20ms/step\n",
      "Epoch 16/25\n",
      "\n",
      "Epoch 16: val_loss did not improve from 0.39184\n",
      "32/32 - 1s - loss: 0.3441 - accuracy: 0.9220 - val_loss: 0.3932 - val_accuracy: 0.8754 - 634ms/epoch - 20ms/step\n",
      "Epoch 17/25\n",
      "\n",
      "Epoch 17: val_loss improved from 0.39184 to 0.38996, saving model to BestModel.h5\n",
      "32/32 - 1s - loss: 0.3400 - accuracy: 0.9214 - val_loss: 0.3900 - val_accuracy: 0.8770 - 649ms/epoch - 20ms/step\n",
      "Epoch 18/25\n",
      "\n",
      "Epoch 18: val_loss improved from 0.38996 to 0.38962, saving model to BestModel.h5\n",
      "32/32 - 1s - loss: 0.3352 - accuracy: 0.9241 - val_loss: 0.3896 - val_accuracy: 0.8738 - 662ms/epoch - 21ms/step\n",
      "Epoch 19/25\n",
      "\n",
      "Epoch 19: val_loss did not improve from 0.38962\n",
      "32/32 - 1s - loss: 0.3321 - accuracy: 0.9235 - val_loss: 0.3902 - val_accuracy: 0.8770 - 595ms/epoch - 19ms/step\n",
      "Epoch 20/25\n",
      "\n",
      "Epoch 20: val_loss did not improve from 0.38962\n",
      "32/32 - 1s - loss: 0.3274 - accuracy: 0.9286 - val_loss: 0.3923 - val_accuracy: 0.8596 - 589ms/epoch - 18ms/step\n",
      "Epoch 21/25\n",
      "\n",
      "Epoch 21: val_loss improved from 0.38962 to 0.38624, saving model to BestModel.h5\n",
      "32/32 - 1s - loss: 0.3243 - accuracy: 0.9270 - val_loss: 0.3862 - val_accuracy: 0.8738 - 646ms/epoch - 20ms/step\n",
      "Epoch 22/25\n",
      "\n",
      "Epoch 22: val_loss did not improve from 0.38624\n",
      "32/32 - 1s - loss: 0.3206 - accuracy: 0.9314 - val_loss: 0.3865 - val_accuracy: 0.8691 - 608ms/epoch - 19ms/step\n",
      "Epoch 23/25\n",
      "\n",
      "Epoch 23: val_loss did not improve from 0.38624\n",
      "32/32 - 1s - loss: 0.3160 - accuracy: 0.9344 - val_loss: 0.3867 - val_accuracy: 0.8707 - 598ms/epoch - 19ms/step\n",
      "Epoch 24/25\n",
      "\n",
      "Epoch 24: val_loss improved from 0.38624 to 0.38341, saving model to BestModel.h5\n",
      "32/32 - 1s - loss: 0.3129 - accuracy: 0.9349 - val_loss: 0.3834 - val_accuracy: 0.8675 - 635ms/epoch - 20ms/step\n",
      "Epoch 25/25\n",
      "\n",
      "Epoch 25: val_loss did not improve from 0.38341\n",
      "32/32 - 1s - loss: 0.3102 - accuracy: 0.9381 - val_loss: 0.3848 - val_accuracy: 0.8738 - 591ms/epoch - 18ms/step\n"
     ]
    }
   ],
   "source": [
    "# fit network\n",
    "checkpoint = ModelCheckpoint(\"BestModel.h5\",\n",
    "                             monitor=\"val_loss\", \n",
    "                             mode=\"min\",\n",
    "                             save_best_only = True,\n",
    "                             verbose=1)\n",
    "callbacks = [checkpoint]\n",
    "\n",
    "h = model.fit(Xtrain, ytrain, validation_split=0.1, callbacks = callbacks, batch_size=180, epochs=25, verbose=2)"
   ]
  },
  {
   "cell_type": "code",
   "execution_count": 22,
   "id": "8c900e69",
   "metadata": {},
   "outputs": [
    {
     "data": {
      "text/plain": [
       "Text(0, 0.5, 'Loss Fn valaues')"
      ]
     },
     "execution_count": 22,
     "metadata": {},
     "output_type": "execute_result"
    },
    {
     "data": {
      "image/png": "[encoded data removed]",
      "text/plain": [
       "<Figure size 800x500 with 1 Axes>"
      ]
     },
     "metadata": {},
     "output_type": "display_data"
    }
   ],
   "source": [
    "import matplotlib.pyplot as plt\n",
    "\n",
    "plt.figure(figsize=(8,5))\n",
    "plt.plot(list(range(1,26)), h.history['loss'], label='Training loss')\n",
    "plt.plot(list(range(1,26)), h.history['val_loss'], label='Validation loss')\n",
    "plt.legend(fontsize=15)\n",
    "plt.grid()\n",
    "plt.xlabel('Epochs', fontsize=15)\n",
    "plt.ylabel('Loss Fn valaues', fontsize=15)"
   ]
  },
  {
   "cell_type": "code",
   "execution_count": null,
   "id": "c34906f7",
   "metadata": {},
   "outputs": [],
   "source": []
  },
  {
   "cell_type": "code",
   "execution_count": 23,
   "id": "d8ac0a1e",
   "metadata": {},
   "outputs": [
    {
     "data": {
      "text/plain": [
       "Text(0, 0.5, 'Accuracy')"
      ]
     },
     "execution_count": 23,
     "metadata": {},
     "output_type": "execute_result"
    },
    {
     "data": {
      "image/png": "[encoded data removed]",
      "text/plain": [
       "<Figure size 800x500 with 1 Axes>"
      ]
     },
     "metadata": {},
     "output_type": "display_data"
    }
   ],
   "source": [
    "import matplotlib.pyplot as plt\n",
    "\n",
    "plt.figure(figsize=(8,5))\n",
    "plt.plot(list(range(1,26)), h.history['accuracy'], label='Training Accuracy')\n",
    "plt.plot(list(range(1,26)), h.history['val_accuracy'], label='Validation Accuracy')\n",
    "plt.legend(fontsize=15)\n",
    "plt.grid()\n",
    "plt.xlabel('Epochs', fontsize=15)\n",
    "plt.ylabel('Accuracy', fontsize=15)"
   ]
  },
  {
   "cell_type": "code",
   "execution_count": null,
   "id": "cdda675d",
   "metadata": {},
   "outputs": [],
   "source": []
  },
  {
   "cell_type": "code",
   "execution_count": 24,
   "id": "07cea05e",
   "metadata": {},
   "outputs": [
    {
     "name": "stdout",
     "output_type": "stream",
     "text": [
      "Test Accuracy: 88.320708\n"
     ]
    }
   ],
   "source": [
    "# evaluate the model ONCe on the test set\n",
    "loss, acc = model.evaluate(Xtest, ytest, verbose=0)\n",
    "print('Test Accuracy: %f' % (acc*100))"
   ]
  },
  {
   "cell_type": "code",
   "execution_count": 53,
   "id": "30a392b4",
   "metadata": {},
   "outputs": [
    {
     "data": {
      "text/plain": [
       "(1, 13634)"
      ]
     },
     "execution_count": 53,
     "metadata": {},
     "output_type": "execute_result"
    }
   ],
   "source": [
    "test_tweeet = [\"amazing service apple talk question unless pay stupid support\"]\n",
    "#test_tweeet = [\"love talk makememories unplug relax iphone smartphone wifi connect\"]\n",
    "test_tweeet_vec = tokenizer.texts_to_matrix(test_tweeet, mode='binary')\n",
    "test_tweeet_vec.shape"
   ]
  },
  {
   "cell_type": "code",
   "execution_count": 55,
   "id": "f4066755",
   "metadata": {},
   "outputs": [],
   "source": [
    "import keras\n",
    "best_model = keras.models.load_model('BestModel.h5')"
   ]
  },
  {
   "cell_type": "code",
   "execution_count": 56,
   "id": "688b1004",
   "metadata": {},
   "outputs": [
    {
     "name": "stdout",
     "output_type": "stream",
     "text": [
      "1/1 [==============================] - 0s 26ms/step\n"
     ]
    },
    {
     "data": {
      "text/plain": [
       "(1, 0)"
      ]
     },
     "execution_count": 56,
     "metadata": {},
     "output_type": "execute_result"
    }
   ],
   "source": [
    "prediction = best_model.predict(test_tweeet_vec)\n",
    "predicted_label = np.argmax(prediction)\n",
    "round(prediction[0][0]), predicted_label"
   ]
  },
  {
   "cell_type": "code",
   "execution_count": 52,
   "id": "8359535f",
   "metadata": {},
   "outputs": [
    {
     "name": "stdout",
     "output_type": "stream",
     "text": [
      "1/1 [==============================] - 0s 28ms/step\n"
     ]
    },
    {
     "data": {
      "text/plain": [
       "(array([[0.01563886]], dtype=float32), 0)"
      ]
     },
     "execution_count": 52,
     "metadata": {},
     "output_type": "execute_result"
    }
   ],
   "source": []
  },
  {
   "cell_type": "code",
   "execution_count": null,
   "id": "23d77187",
   "metadata": {},
   "outputs": [],
   "source": []
  },
  {
   "cell_type": "code",
   "execution_count": null,
   "id": "70c90269",
   "metadata": {},
   "outputs": [],
   "source": []
  },
  {
   "cell_type": "code",
   "execution_count": 57,
   "id": "f9662c30",
   "metadata": {},
   "outputs": [
    {
     "data": {
      "text/plain": [
       "'/home/DataHour/Sentiment Analysis Project'"
      ]
     },
     "execution_count": 57,
     "metadata": {},
     "output_type": "execute_result"
    }
   ],
   "source": [
    "pwd"
   ]
  },
  {
   "cell_type": "code",
   "execution_count": 58,
   "id": "979d7f3e",
   "metadata": {},
   "outputs": [],
   "source": []
  }
 ],
 "metadata": {
  "kernelspec": {
   "display_name": "Python 3 (ipykernel)",
   "language": "python",
   "name": "python3"
  },
  "language_info": {
   "codemirror_mode": {
    "name": "ipython",
    "version": 3
   },
   "file_extension": ".py",
   "mimetype": "text/x-python",
   "name": "python",
   "nbconvert_exporter": "python",
   "pygments_lexer": "ipython3",
   "version": "3.8.10"
  }
 },
 "nbformat": 4,
 "nbformat_minor": 5
}
