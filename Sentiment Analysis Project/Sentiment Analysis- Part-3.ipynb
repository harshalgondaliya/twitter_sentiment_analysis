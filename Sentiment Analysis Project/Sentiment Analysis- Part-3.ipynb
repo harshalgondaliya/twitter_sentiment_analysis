{
 "cells": [
  {
   "cell_type": "markdown",
   "id": "57cc68db",
   "metadata": {},
   "source": [
    "### Load The Tweets Dataset "
   ]
  },
  {
   "cell_type": "code",
   "execution_count": 134,
   "id": "5ee9ee83",
   "metadata": {},
   "outputs": [],
   "source": [
    "import numpy as np\n",
    "import pandas as pd\n",
    "from sklearn.pipeline import make_pipeline, Pipeline\n",
    "from sklearn.linear_model import LogisticRegression\n",
    "from sklearn.model_selection import cross_val_score, cross_validate\n",
    "from sklearn.model_selection import StratifiedKFold\n",
    "from sklearn.preprocessing import StandardScaler\n",
    "from sklearn.feature_extraction.text import CountVectorizer\n",
    "from sklearn.model_selection import train_test_split\n",
    "\n",
    "pd.set_option(\"display.max_colwidth\", 200)"
   ]
  },
  {
   "cell_type": "code",
   "execution_count": 118,
   "id": "fdc05750",
   "metadata": {},
   "outputs": [
    {
     "data": {
      "text/html": [
       "<div>\n",
       "<style scoped>\n",
       "    .dataframe tbody tr th:only-of-type {\n",
       "        vertical-align: middle;\n",
       "    }\n",
       "\n",
       "    .dataframe tbody tr th {\n",
       "        vertical-align: top;\n",
       "    }\n",
       "\n",
       "    .dataframe thead th {\n",
       "        text-align: right;\n",
       "    }\n",
       "</style>\n",
       "<table border=\"1\" class=\"dataframe\">\n",
       "  <thead>\n",
       "    <tr style=\"text-align: right;\">\n",
       "      <th></th>\n",
       "      <th>id</th>\n",
       "      <th>label</th>\n",
       "      <th>tweet</th>\n",
       "      <th>cleaned_tweets_w/o_SW</th>\n",
       "      <th>cleaned_tweets_with_SW</th>\n",
       "    </tr>\n",
       "  </thead>\n",
       "  <tbody>\n",
       "    <tr>\n",
       "      <th>0</th>\n",
       "      <td>1</td>\n",
       "      <td>0</td>\n",
       "      <td>#fingerprint #Pregnancy Test https://goo.gl/h1MfQV #android #apps #beautiful #cute #health #igers #iphoneonly #iphonesia #iphone</td>\n",
       "      <td>fingerprint pregnancy test android apps beautiful cute health igers iphoneonly iphonesia iphone</td>\n",
       "      <td>fingerprint pregnancy test android apps beautiful cute health igers iphoneonly iphonesia iphone</td>\n",
       "    </tr>\n",
       "    <tr>\n",
       "      <th>1</th>\n",
       "      <td>2</td>\n",
       "      <td>0</td>\n",
       "      <td>Finally a transparant silicon case ^^ Thanks to my uncle :) #yay #Sony #Xperia #S #sonyexperias… http://instagram.com/p/YGEt5JC6JM/</td>\n",
       "      <td>finally a transparant silicon case thanks to my uncle yay sony xperia s sonyexperias</td>\n",
       "      <td>finally transparant silicon case thanks uncle yay sony xperia sonyexperias</td>\n",
       "    </tr>\n",
       "    <tr>\n",
       "      <th>2</th>\n",
       "      <td>3</td>\n",
       "      <td>0</td>\n",
       "      <td>We love this! Would you go? #talk #makememories #unplug #relax #iphone #smartphone #wifi #connect... http://fb.me/6N3LsUpCu</td>\n",
       "      <td>we love this would you go talk makememories unplug relax iphone smartphone wifi connect</td>\n",
       "      <td>love talk makememories unplug relax iphone smartphone wifi connect</td>\n",
       "    </tr>\n",
       "    <tr>\n",
       "      <th>3</th>\n",
       "      <td>4</td>\n",
       "      <td>0</td>\n",
       "      <td>I'm wired I know I'm George I was made that way ;) #iphone #cute #daventry #home http://instagr.am/p/Li_5_ujS4k/</td>\n",
       "      <td>i am wired i know i am george i wa made that way iphone cute daventry home</td>\n",
       "      <td>wired know george way iphone cute daventry home</td>\n",
       "    </tr>\n",
       "    <tr>\n",
       "      <th>4</th>\n",
       "      <td>5</td>\n",
       "      <td>1</td>\n",
       "      <td>What amazing service! Apple won't even talk to me about a question I have unless I pay them $19.95 for their stupid support!</td>\n",
       "      <td>what amazing service apple will not even talk to me about a question i have unless i pay them for their stupid support</td>\n",
       "      <td>amazing service apple talk question unless pay stupid support</td>\n",
       "    </tr>\n",
       "  </tbody>\n",
       "</table>\n",
       "</div>"
      ],
      "text/plain": [
       "   id  label  \\\n",
       "0   1      0   \n",
       "1   2      0   \n",
       "2   3      0   \n",
       "3   4      0   \n",
       "4   5      1   \n",
       "\n",
       "                                                                                                                                 tweet  \\\n",
       "0     #fingerprint #Pregnancy Test https://goo.gl/h1MfQV #android #apps #beautiful #cute #health #igers #iphoneonly #iphonesia #iphone   \n",
       "1  Finally a transparant silicon case ^^ Thanks to my uncle :) #yay #Sony #Xperia #S #sonyexperias… http://instagram.com/p/YGEt5JC6JM/   \n",
       "2          We love this! Would you go? #talk #makememories #unplug #relax #iphone #smartphone #wifi #connect... http://fb.me/6N3LsUpCu   \n",
       "3                     I'm wired I know I'm George I was made that way ;) #iphone #cute #daventry #home http://instagr.am/p/Li_5_ujS4k/   \n",
       "4         What amazing service! Apple won't even talk to me about a question I have unless I pay them $19.95 for their stupid support!   \n",
       "\n",
       "                                                                                                     cleaned_tweets_w/o_SW  \\\n",
       "0                         fingerprint pregnancy test android apps beautiful cute health igers iphoneonly iphonesia iphone    \n",
       "1                                    finally a transparant silicon case thanks to my uncle yay sony xperia s sonyexperias    \n",
       "2                                 we love this would you go talk makememories unplug relax iphone smartphone wifi connect    \n",
       "3                                              i am wired i know i am george i wa made that way iphone cute daventry home    \n",
       "4  what amazing service apple will not even talk to me about a question i have unless i pay them for their stupid support    \n",
       "\n",
       "                                                                             cleaned_tweets_with_SW  \n",
       "0  fingerprint pregnancy test android apps beautiful cute health igers iphoneonly iphonesia iphone   \n",
       "1                       finally transparant silicon case thanks uncle yay sony xperia sonyexperias   \n",
       "2                               love talk makememories unplug relax iphone smartphone wifi connect   \n",
       "3                                                  wired know george way iphone cute daventry home   \n",
       "4                                    amazing service apple talk question unless pay stupid support   "
      ]
     },
     "execution_count": 118,
     "metadata": {},
     "output_type": "execute_result"
    }
   ],
   "source": [
    "data = pd.read_pickle(\"tweets_cleaned.pkl\")\n",
    "data.head()"
   ]
  },
  {
   "cell_type": "code",
   "execution_count": 119,
   "id": "87479af6",
   "metadata": {},
   "outputs": [],
   "source": [
    "# 0 refers to positive sentiment, 1 is negative sentiment"
   ]
  },
  {
   "cell_type": "code",
   "execution_count": null,
   "id": "02bc0cd5",
   "metadata": {},
   "outputs": [],
   "source": []
  },
  {
   "cell_type": "markdown",
   "id": "212330f3",
   "metadata": {},
   "source": [
    "# 12. Simple Deep Learning Model with OHE (Binary) Features"
   ]
  },
  {
   "cell_type": "code",
   "execution_count": 194,
   "id": "b1e030bb",
   "metadata": {},
   "outputs": [],
   "source": [
    "from keras.utils.vis_utils import plot_model\n",
    "from keras.models import Sequential\n",
    "from keras.layers import Dense, Dropout\n",
    "from keras.callbacks import ModelCheckpoint\n",
    "import pydot\n",
    "import keras.backend as K"
   ]
  },
  {
   "cell_type": "code",
   "execution_count": 207,
   "id": "e0221894",
   "metadata": {},
   "outputs": [],
   "source": [
    "# This user-defined function return a Deep Learning Model\n",
    "\n",
    "def define_model(n_words):\n",
    "    # define network\n",
    "    model = Sequential()\n",
    "    model.add(Dense(64, input_shape=(n_words,), activation='relu', kernel_regularizer='l2'))\n",
    "#     model.add(Dropout(0.25))\n",
    "    model.add(Dense(32, activation='relu', kernel_regularizer='l2'))\n",
    "#     model.add(Dropout(0.25))\n",
    "    model.add(Dense(1, activation='sigmoid'))\n",
    "    \n",
    "    # compile network\n",
    "    model.compile(loss='binary_crossentropy', optimizer='adam', metrics=['accuracy'], )\n",
    "    \n",
    "    # summarize defined model\n",
    "    model.summary()    \n",
    "    plot_model(model, to_file='model1.png', show_shapes=True)\n",
    "    return model"
   ]
  },
  {
   "cell_type": "code",
   "execution_count": 208,
   "id": "3f7ce972",
   "metadata": {},
   "outputs": [],
   "source": [
    "# evaluate a neural network model\n",
    "def evaluate_model(Xtrain, ytrain, Xtest, ytest):\n",
    "    scores = list()\n",
    "    n_repeats = 5\n",
    "    n_words = Xtest.shape[1]\n",
    "    \n",
    "    for i in range(n_repeats):\n",
    "        # define network\n",
    "        model = define_model(n_words)\n",
    "        \n",
    "        # fit network\n",
    "        model.fit(Xtrain, ytrain, epochs=10, verbose=0)\n",
    "        \n",
    "        # evaluate\n",
    "        _, acc = model.evaluate(Xtest, ytest, verbose=0)\n",
    "        scores.append(acc)\n",
    "        \n",
    "        print('%d accuracy: %s' % ((i+1), acc))\n",
    "    return scores"
   ]
  },
  {
   "cell_type": "code",
   "execution_count": 209,
   "id": "a67ae58b",
   "metadata": {},
   "outputs": [],
   "source": [
    "# fit a tokenizer\n",
    "from keras.preprocessing.text import Tokenizer\n",
    "def create_tokenizer(lines):\n",
    "    tokenizer = Tokenizer() # num_words=1000\n",
    "    tokenizer.fit_on_texts(lines)\n",
    "    return tokenizer"
   ]
  },
  {
   "cell_type": "code",
   "execution_count": 210,
   "id": "39953e44",
   "metadata": {},
   "outputs": [],
   "source": [
    "# create the tokenizer\n",
    "train_docs = data['cleaned_tweets_with_SW']\n",
    "tokenizer = create_tokenizer(train_docs)"
   ]
  },
  {
   "cell_type": "code",
   "execution_count": 211,
   "id": "8acbb187",
   "metadata": {},
   "outputs": [],
   "source": [
    "# encode data\n",
    "X = tokenizer.texts_to_matrix(train_docs, mode='binary')"
   ]
  },
  {
   "cell_type": "code",
   "execution_count": 212,
   "id": "f2ff78de",
   "metadata": {},
   "outputs": [
    {
     "data": {
      "text/plain": [
       "(7920, 15351)"
      ]
     },
     "execution_count": 212,
     "metadata": {},
     "output_type": "execute_result"
    }
   ],
   "source": [
    "X.shape"
   ]
  },
  {
   "cell_type": "code",
   "execution_count": 213,
   "id": "ed2717ba",
   "metadata": {},
   "outputs": [
    {
     "data": {
      "text/plain": [
       "array([0., 1., 0., ..., 0., 0., 0.])"
      ]
     },
     "execution_count": 213,
     "metadata": {},
     "output_type": "execute_result"
    }
   ],
   "source": [
    "X[0]"
   ]
  },
  {
   "cell_type": "code",
   "execution_count": 214,
   "id": "395a3264",
   "metadata": {},
   "outputs": [],
   "source": [
    "y = data['label']"
   ]
  },
  {
   "cell_type": "code",
   "execution_count": 215,
   "id": "9959ad63",
   "metadata": {},
   "outputs": [],
   "source": [
    "Xtrain, Xtest, ytrain, ytest = train_test_split(X, y,  test_size=0.2,random_state=42) "
   ]
  },
  {
   "cell_type": "code",
   "execution_count": 216,
   "id": "ebbb4592",
   "metadata": {},
   "outputs": [
    {
     "data": {
      "text/plain": [
       "((6336, 15351), (1584, 15351))"
      ]
     },
     "execution_count": 216,
     "metadata": {},
     "output_type": "execute_result"
    }
   ],
   "source": [
    "Xtrain.shape, Xtest.shape"
   ]
  },
  {
   "cell_type": "code",
   "execution_count": 217,
   "id": "fd9e1f94",
   "metadata": {},
   "outputs": [
    {
     "name": "stdout",
     "output_type": "stream",
     "text": [
      "Model: \"sequential\"\n",
      "_________________________________________________________________\n",
      " Layer (type)                Output Shape              Param #   \n",
      "=================================================================\n",
      " dense (Dense)               (None, 64)                982528    \n",
      "                                                                 \n",
      " dense_1 (Dense)             (None, 32)                2080      \n",
      "                                                                 \n",
      " dense_2 (Dense)             (None, 1)                 33        \n",
      "                                                                 \n",
      "=================================================================\n",
      "Total params: 984,641\n",
      "Trainable params: 984,641\n",
      "Non-trainable params: 0\n",
      "_________________________________________________________________\n"
     ]
    }
   ],
   "source": [
    "# define network\n",
    "K.clear_session() \n",
    "n_words = Xtrain.shape[1]\n",
    "model = define_model(n_words)"
   ]
  },
  {
   "attachments": {
    "59044476-403e-4f02-83b8-344f2e42f769.png": {
     "image/png": "[encoded data removed]"
    }
   },
   "cell_type": "markdown",
   "id": "4255bef1",
   "metadata": {},
   "source": [
    "![model1.png](attachment:59044476-403e-4f02-83b8-344f2e42f769.png)"
   ]
  },
  {
   "cell_type": "code",
   "execution_count": 218,
   "id": "9ffd9c3d",
   "metadata": {},
   "outputs": [
    {
     "name": "stdout",
     "output_type": "stream",
     "text": [
      "Epoch 1/25\n",
      "\n",
      "Epoch 1: val_loss improved from inf to 0.84836, saving model to BestModel.h5\n",
      "32/32 - 1s - loss: 1.2247 - accuracy: 0.7410 - val_loss: 0.8484 - val_accuracy: 0.7413 - 1s/epoch - 31ms/step\n",
      "Epoch 2/25\n",
      "\n",
      "Epoch 2: val_loss improved from 0.84836 to 0.63350, saving model to BestModel.h5\n",
      "32/32 - 0s - loss: 0.7273 - accuracy: 0.7832 - val_loss: 0.6335 - val_accuracy: 0.8438 - 324ms/epoch - 10ms/step\n",
      "Epoch 3/25\n",
      "\n",
      "Epoch 3: val_loss improved from 0.63350 to 0.53817, saving model to BestModel.h5\n",
      "32/32 - 0s - loss: 0.5878 - accuracy: 0.8588 - val_loss: 0.5382 - val_accuracy: 0.8644 - 320ms/epoch - 10ms/step\n",
      "Epoch 4/25\n",
      "\n",
      "Epoch 4: val_loss improved from 0.53817 to 0.48275, saving model to BestModel.h5\n",
      "32/32 - 0s - loss: 0.5123 - accuracy: 0.8800 - val_loss: 0.4828 - val_accuracy: 0.8754 - 334ms/epoch - 10ms/step\n",
      "Epoch 5/25\n",
      "\n",
      "Epoch 5: val_loss improved from 0.48275 to 0.44943, saving model to BestModel.h5\n",
      "32/32 - 0s - loss: 0.4636 - accuracy: 0.8893 - val_loss: 0.4494 - val_accuracy: 0.8659 - 358ms/epoch - 11ms/step\n",
      "Epoch 6/25\n",
      "\n",
      "Epoch 6: val_loss improved from 0.44943 to 0.42313, saving model to BestModel.h5\n",
      "32/32 - 0s - loss: 0.4299 - accuracy: 0.8907 - val_loss: 0.4231 - val_accuracy: 0.8707 - 333ms/epoch - 10ms/step\n",
      "Epoch 7/25\n",
      "\n",
      "Epoch 7: val_loss improved from 0.42313 to 0.40868, saving model to BestModel.h5\n",
      "32/32 - 0s - loss: 0.4047 - accuracy: 0.9004 - val_loss: 0.4087 - val_accuracy: 0.8691 - 347ms/epoch - 11ms/step\n",
      "Epoch 8/25\n",
      "\n",
      "Epoch 8: val_loss improved from 0.40868 to 0.39677, saving model to BestModel.h5\n",
      "32/32 - 0s - loss: 0.3877 - accuracy: 0.9002 - val_loss: 0.3968 - val_accuracy: 0.8849 - 367ms/epoch - 11ms/step\n",
      "Epoch 9/25\n",
      "\n",
      "Epoch 9: val_loss improved from 0.39677 to 0.39147, saving model to BestModel.h5\n",
      "32/32 - 0s - loss: 0.3746 - accuracy: 0.9060 - val_loss: 0.3915 - val_accuracy: 0.8864 - 342ms/epoch - 11ms/step\n",
      "Epoch 10/25\n",
      "\n",
      "Epoch 10: val_loss improved from 0.39147 to 0.39091, saving model to BestModel.h5\n",
      "32/32 - 0s - loss: 0.3666 - accuracy: 0.9076 - val_loss: 0.3909 - val_accuracy: 0.8691 - 361ms/epoch - 11ms/step\n",
      "Epoch 11/25\n",
      "\n",
      "Epoch 11: val_loss improved from 0.39091 to 0.38028, saving model to BestModel.h5\n",
      "32/32 - 0s - loss: 0.3574 - accuracy: 0.9130 - val_loss: 0.3803 - val_accuracy: 0.8864 - 368ms/epoch - 11ms/step\n",
      "Epoch 12/25\n",
      "\n",
      "Epoch 12: val_loss improved from 0.38028 to 0.37687, saving model to BestModel.h5\n",
      "32/32 - 0s - loss: 0.3492 - accuracy: 0.9127 - val_loss: 0.3769 - val_accuracy: 0.8943 - 378ms/epoch - 12ms/step\n",
      "Epoch 13/25\n",
      "\n",
      "Epoch 13: val_loss improved from 0.37687 to 0.37573, saving model to BestModel.h5\n",
      "32/32 - 0s - loss: 0.3442 - accuracy: 0.9169 - val_loss: 0.3757 - val_accuracy: 0.8833 - 355ms/epoch - 11ms/step\n",
      "Epoch 14/25\n",
      "\n",
      "Epoch 14: val_loss did not improve from 0.37573\n",
      "32/32 - 0s - loss: 0.3384 - accuracy: 0.9209 - val_loss: 0.3758 - val_accuracy: 0.8864 - 287ms/epoch - 9ms/step\n",
      "Epoch 15/25\n",
      "\n",
      "Epoch 15: val_loss improved from 0.37573 to 0.37179, saving model to BestModel.h5\n",
      "32/32 - 0s - loss: 0.3323 - accuracy: 0.9216 - val_loss: 0.3718 - val_accuracy: 0.8943 - 362ms/epoch - 11ms/step\n",
      "Epoch 16/25\n",
      "\n",
      "Epoch 16: val_loss did not improve from 0.37179\n",
      "32/32 - 0s - loss: 0.3271 - accuracy: 0.9214 - val_loss: 0.3721 - val_accuracy: 0.8896 - 275ms/epoch - 9ms/step\n",
      "Epoch 17/25\n",
      "\n",
      "Epoch 17: val_loss did not improve from 0.37179\n",
      "32/32 - 0s - loss: 0.3230 - accuracy: 0.9306 - val_loss: 0.3744 - val_accuracy: 0.8849 - 284ms/epoch - 9ms/step\n",
      "Epoch 18/25\n",
      "\n",
      "Epoch 18: val_loss improved from 0.37179 to 0.37107, saving model to BestModel.h5\n",
      "32/32 - 0s - loss: 0.3186 - accuracy: 0.9320 - val_loss: 0.3711 - val_accuracy: 0.8833 - 408ms/epoch - 13ms/step\n",
      "Epoch 19/25\n",
      "\n",
      "Epoch 19: val_loss improved from 0.37107 to 0.37075, saving model to BestModel.h5\n",
      "32/32 - 0s - loss: 0.3151 - accuracy: 0.9309 - val_loss: 0.3708 - val_accuracy: 0.8959 - 344ms/epoch - 11ms/step\n",
      "Epoch 20/25\n",
      "\n",
      "Epoch 20: val_loss did not improve from 0.37075\n",
      "32/32 - 0s - loss: 0.3109 - accuracy: 0.9369 - val_loss: 0.3738 - val_accuracy: 0.8817 - 300ms/epoch - 9ms/step\n",
      "Epoch 21/25\n",
      "\n",
      "Epoch 21: val_loss improved from 0.37075 to 0.36973, saving model to BestModel.h5\n",
      "32/32 - 0s - loss: 0.3061 - accuracy: 0.9342 - val_loss: 0.3697 - val_accuracy: 0.8912 - 358ms/epoch - 11ms/step\n",
      "Epoch 22/25\n",
      "\n",
      "Epoch 22: val_loss did not improve from 0.36973\n",
      "32/32 - 0s - loss: 0.3042 - accuracy: 0.9374 - val_loss: 0.3745 - val_accuracy: 0.8770 - 293ms/epoch - 9ms/step\n",
      "Epoch 23/25\n",
      "\n",
      "Epoch 23: val_loss improved from 0.36973 to 0.36769, saving model to BestModel.h5\n",
      "32/32 - 0s - loss: 0.2999 - accuracy: 0.9411 - val_loss: 0.3677 - val_accuracy: 0.8927 - 373ms/epoch - 12ms/step\n",
      "Epoch 24/25\n",
      "\n",
      "Epoch 24: val_loss did not improve from 0.36769\n",
      "32/32 - 0s - loss: 0.2978 - accuracy: 0.9400 - val_loss: 0.3748 - val_accuracy: 0.8912 - 286ms/epoch - 9ms/step\n",
      "Epoch 25/25\n",
      "\n",
      "Epoch 25: val_loss did not improve from 0.36769\n",
      "32/32 - 0s - loss: 0.2995 - accuracy: 0.9388 - val_loss: 0.3858 - val_accuracy: 0.8580 - 292ms/epoch - 9ms/step\n"
     ]
    }
   ],
   "source": [
    "# fit network\n",
    "checkpoint = ModelCheckpoint(\"BestModel.h5\",\n",
    "                             monitor=\"val_loss\", \n",
    "                             mode=\"min\",\n",
    "                             save_best_only = True,\n",
    "                             verbose=1)\n",
    "callbacks = [checkpoint]\n",
    "\n",
    "h = model.fit(Xtrain, ytrain, validation_split=0.1, callbacks = callbacks, batch_size=180, epochs=25, verbose=2)"
   ]
  },
  {
   "cell_type": "code",
   "execution_count": 224,
   "id": "f316fa56",
   "metadata": {},
   "outputs": [
    {
     "data": {
      "text/plain": [
       "Text(0, 0.5, 'Loss Fn valaues')"
      ]
     },
     "execution_count": 224,
     "metadata": {},
     "output_type": "execute_result"
    },
    {
     "data": {
      "image/png": "[encoded data removed]",
      "text/plain": [
       "<Figure size 800x500 with 1 Axes>"
      ]
     },
     "metadata": {},
     "output_type": "display_data"
    }
   ],
   "source": [
    "import matplotlib.pyplot as plt\n",
    "\n",
    "plt.figure(figsize=(8,5))\n",
    "plt.plot(list(range(1,26)), h.history['loss'], label='Training loss')\n",
    "plt.plot(list(range(1,26)), h.history['val_loss'], label='Validation loss')\n",
    "plt.legend(fontsize=15)\n",
    "plt.grid()\n",
    "plt.xlabel('Epochs', fontsize=15)\n",
    "plt.ylabel('Loss Fn valaues', fontsize=15)"
   ]
  },
  {
   "cell_type": "code",
   "execution_count": null,
   "id": "4264a331",
   "metadata": {},
   "outputs": [],
   "source": []
  },
  {
   "cell_type": "code",
   "execution_count": 223,
   "id": "4a680ead",
   "metadata": {},
   "outputs": [
    {
     "data": {
      "text/plain": [
       "Text(0, 0.5, 'Accuracy')"
      ]
     },
     "execution_count": 223,
     "metadata": {},
     "output_type": "execute_result"
    },
    {
     "data": {
      "image/png": "[encoded data removed]",
      "text/plain": [
       "<Figure size 800x500 with 1 Axes>"
      ]
     },
     "metadata": {},
     "output_type": "display_data"
    }
   ],
   "source": [
    "import matplotlib.pyplot as plt\n",
    "\n",
    "plt.figure(figsize=(8,5))\n",
    "plt.plot(list(range(1,26)), h.history['accuracy'], label='Training Accuracy')\n",
    "plt.plot(list(range(1,26)), h.history['val_accuracy'], label='Validation Accuracy')\n",
    "plt.legend(fontsize=15)\n",
    "plt.grid()\n",
    "plt.xlabel('Epochs', fontsize=15)\n",
    "plt.ylabel('Accuracy', fontsize=15)"
   ]
  },
  {
   "cell_type": "code",
   "execution_count": null,
   "id": "f599e25e",
   "metadata": {},
   "outputs": [],
   "source": []
  },
  {
   "cell_type": "code",
   "execution_count": 225,
   "id": "161a2e93",
   "metadata": {},
   "outputs": [
    {
     "name": "stdout",
     "output_type": "stream",
     "text": [
      "Test Accuracy: 86.931819\n"
     ]
    }
   ],
   "source": [
    "# evaluate the model ONCe on the test set\n",
    "loss, acc = model.evaluate(Xtest, ytest, verbose=0)\n",
    "print('Test Accuracy: %f' % (acc*100))"
   ]
  },
  {
   "cell_type": "code",
   "execution_count": 226,
   "id": "dc98806b",
   "metadata": {},
   "outputs": [
    {
     "name": "stdout",
     "output_type": "stream",
     "text": [
      "Model: \"sequential_1\"\n",
      "_________________________________________________________________\n",
      " Layer (type)                Output Shape              Param #   \n",
      "=================================================================\n",
      " dense_3 (Dense)             (None, 64)                982528    \n",
      "                                                                 \n",
      " dense_4 (Dense)             (None, 32)                2080      \n",
      "                                                                 \n",
      " dense_5 (Dense)             (None, 1)                 33        \n",
      "                                                                 \n",
      "=================================================================\n",
      "Total params: 984,641\n",
      "Trainable params: 984,641\n",
      "Non-trainable params: 0\n",
      "_________________________________________________________________\n",
      "1 accuracy: 0.8958333134651184\n",
      "Model: \"sequential_2\"\n",
      "_________________________________________________________________\n",
      " Layer (type)                Output Shape              Param #   \n",
      "=================================================================\n",
      " dense_6 (Dense)             (None, 64)                982528    \n",
      "                                                                 \n",
      " dense_7 (Dense)             (None, 32)                2080      \n",
      "                                                                 \n",
      " dense_8 (Dense)             (None, 1)                 33        \n",
      "                                                                 \n",
      "=================================================================\n",
      "Total params: 984,641\n",
      "Trainable params: 984,641\n",
      "Non-trainable params: 0\n",
      "_________________________________________________________________\n",
      "2 accuracy: 0.8882575631141663\n",
      "Model: \"sequential_3\"\n",
      "_________________________________________________________________\n",
      " Layer (type)                Output Shape              Param #   \n",
      "=================================================================\n",
      " dense_9 (Dense)             (None, 64)                982528    \n",
      "                                                                 \n",
      " dense_10 (Dense)            (None, 32)                2080      \n",
      "                                                                 \n",
      " dense_11 (Dense)            (None, 1)                 33        \n",
      "                                                                 \n",
      "=================================================================\n",
      "Total params: 984,641\n",
      "Trainable params: 984,641\n",
      "Non-trainable params: 0\n",
      "_________________________________________________________________\n",
      "3 accuracy: 0.8825757503509521\n",
      "Model: \"sequential_4\"\n",
      "_________________________________________________________________\n",
      " Layer (type)                Output Shape              Param #   \n",
      "=================================================================\n",
      " dense_12 (Dense)            (None, 64)                982528    \n",
      "                                                                 \n",
      " dense_13 (Dense)            (None, 32)                2080      \n",
      "                                                                 \n",
      " dense_14 (Dense)            (None, 1)                 33        \n",
      "                                                                 \n",
      "=================================================================\n",
      "Total params: 984,641\n",
      "Trainable params: 984,641\n",
      "Non-trainable params: 0\n",
      "_________________________________________________________________\n",
      "4 accuracy: 0.8914141654968262\n",
      "Model: \"sequential_5\"\n",
      "_________________________________________________________________\n",
      " Layer (type)                Output Shape              Param #   \n",
      "=================================================================\n",
      " dense_15 (Dense)            (None, 64)                982528    \n",
      "                                                                 \n",
      " dense_16 (Dense)            (None, 32)                2080      \n",
      "                                                                 \n",
      " dense_17 (Dense)            (None, 1)                 33        \n",
      "                                                                 \n",
      "=================================================================\n",
      "Total params: 984,641\n",
      "Trainable params: 984,641\n",
      "Non-trainable params: 0\n",
      "_________________________________________________________________\n",
      "5 accuracy: 0.8933081030845642\n"
     ]
    }
   ],
   "source": [
    "# evaluate (Train & Test repeated 5 times)\n",
    "res = evaluate_model(Xtrain, ytrain, Xtest, ytest)"
   ]
  },
  {
   "cell_type": "code",
   "execution_count": null,
   "id": "689d53ff",
   "metadata": {},
   "outputs": [],
   "source": []
  },
  {
   "cell_type": "markdown",
   "id": "f1e0b15e",
   "metadata": {},
   "source": [
    "# 13. Word Embedding Model using Keras Embedding Layer"
   ]
  },
  {
   "cell_type": "code",
   "execution_count": 162,
   "id": "3a86c00d",
   "metadata": {},
   "outputs": [],
   "source": [
    "from numpy import array\n",
    "from keras.preprocessing.text import Tokenizer\n",
    "from keras_preprocessing.sequence import pad_sequences\n",
    "from keras.utils.vis_utils import plot_model\n",
    "from keras.models import Sequential\n",
    "from keras.layers import Dense\n",
    "from keras.layers import Flatten\n",
    "from keras.layers import Embedding\n",
    "from keras.layers.convolutional import Conv1D\n",
    "from keras.layers.convolutional import MaxPooling1D\n"
   ]
  },
  {
   "cell_type": "code",
   "execution_count": 244,
   "id": "3199f1d8",
   "metadata": {},
   "outputs": [
    {
     "data": {
      "text/html": [
       "<div>\n",
       "<style scoped>\n",
       "    .dataframe tbody tr th:only-of-type {\n",
       "        vertical-align: middle;\n",
       "    }\n",
       "\n",
       "    .dataframe tbody tr th {\n",
       "        vertical-align: top;\n",
       "    }\n",
       "\n",
       "    .dataframe thead th {\n",
       "        text-align: right;\n",
       "    }\n",
       "</style>\n",
       "<table border=\"1\" class=\"dataframe\">\n",
       "  <thead>\n",
       "    <tr style=\"text-align: right;\">\n",
       "      <th></th>\n",
       "      <th>id</th>\n",
       "      <th>label</th>\n",
       "      <th>tweet</th>\n",
       "      <th>cleaned_tweets_w/o_SW</th>\n",
       "      <th>cleaned_tweets_with_SW</th>\n",
       "    </tr>\n",
       "  </thead>\n",
       "  <tbody>\n",
       "    <tr>\n",
       "      <th>0</th>\n",
       "      <td>1</td>\n",
       "      <td>0</td>\n",
       "      <td>#fingerprint #Pregnancy Test https://goo.gl/h1MfQV #android #apps #beautiful #cute #health #igers #iphoneonly #iphonesia #iphone</td>\n",
       "      <td>fingerprint pregnancy test android apps beautiful cute health igers iphoneonly iphonesia iphone</td>\n",
       "      <td>fingerprint pregnancy test android apps beautiful cute health igers iphoneonly iphonesia iphone</td>\n",
       "    </tr>\n",
       "    <tr>\n",
       "      <th>1</th>\n",
       "      <td>2</td>\n",
       "      <td>0</td>\n",
       "      <td>Finally a transparant silicon case ^^ Thanks to my uncle :) #yay #Sony #Xperia #S #sonyexperias… http://instagram.com/p/YGEt5JC6JM/</td>\n",
       "      <td>finally a transparant silicon case thanks to my uncle yay sony xperia s sonyexperias</td>\n",
       "      <td>finally transparant silicon case thanks uncle yay sony xperia sonyexperias</td>\n",
       "    </tr>\n",
       "    <tr>\n",
       "      <th>2</th>\n",
       "      <td>3</td>\n",
       "      <td>0</td>\n",
       "      <td>We love this! Would you go? #talk #makememories #unplug #relax #iphone #smartphone #wifi #connect... http://fb.me/6N3LsUpCu</td>\n",
       "      <td>we love this would you go talk makememories unplug relax iphone smartphone wifi connect</td>\n",
       "      <td>love talk makememories unplug relax iphone smartphone wifi connect</td>\n",
       "    </tr>\n",
       "    <tr>\n",
       "      <th>3</th>\n",
       "      <td>4</td>\n",
       "      <td>0</td>\n",
       "      <td>I'm wired I know I'm George I was made that way ;) #iphone #cute #daventry #home http://instagr.am/p/Li_5_ujS4k/</td>\n",
       "      <td>i am wired i know i am george i wa made that way iphone cute daventry home</td>\n",
       "      <td>wired know george way iphone cute daventry home</td>\n",
       "    </tr>\n",
       "    <tr>\n",
       "      <th>4</th>\n",
       "      <td>5</td>\n",
       "      <td>1</td>\n",
       "      <td>What amazing service! Apple won't even talk to me about a question I have unless I pay them $19.95 for their stupid support!</td>\n",
       "      <td>what amazing service apple will not even talk to me about a question i have unless i pay them for their stupid support</td>\n",
       "      <td>amazing service apple talk question unless pay stupid support</td>\n",
       "    </tr>\n",
       "  </tbody>\n",
       "</table>\n",
       "</div>"
      ],
      "text/plain": [
       "   id  label  \\\n",
       "0   1      0   \n",
       "1   2      0   \n",
       "2   3      0   \n",
       "3   4      0   \n",
       "4   5      1   \n",
       "\n",
       "                                                                                                                                 tweet  \\\n",
       "0     #fingerprint #Pregnancy Test https://goo.gl/h1MfQV #android #apps #beautiful #cute #health #igers #iphoneonly #iphonesia #iphone   \n",
       "1  Finally a transparant silicon case ^^ Thanks to my uncle :) #yay #Sony #Xperia #S #sonyexperias… http://instagram.com/p/YGEt5JC6JM/   \n",
       "2          We love this! Would you go? #talk #makememories #unplug #relax #iphone #smartphone #wifi #connect... http://fb.me/6N3LsUpCu   \n",
       "3                     I'm wired I know I'm George I was made that way ;) #iphone #cute #daventry #home http://instagr.am/p/Li_5_ujS4k/   \n",
       "4         What amazing service! Apple won't even talk to me about a question I have unless I pay them $19.95 for their stupid support!   \n",
       "\n",
       "                                                                                                     cleaned_tweets_w/o_SW  \\\n",
       "0                         fingerprint pregnancy test android apps beautiful cute health igers iphoneonly iphonesia iphone    \n",
       "1                                    finally a transparant silicon case thanks to my uncle yay sony xperia s sonyexperias    \n",
       "2                                 we love this would you go talk makememories unplug relax iphone smartphone wifi connect    \n",
       "3                                              i am wired i know i am george i wa made that way iphone cute daventry home    \n",
       "4  what amazing service apple will not even talk to me about a question i have unless i pay them for their stupid support    \n",
       "\n",
       "                                                                             cleaned_tweets_with_SW  \n",
       "0  fingerprint pregnancy test android apps beautiful cute health igers iphoneonly iphonesia iphone   \n",
       "1                       finally transparant silicon case thanks uncle yay sony xperia sonyexperias   \n",
       "2                               love talk makememories unplug relax iphone smartphone wifi connect   \n",
       "3                                                  wired know george way iphone cute daventry home   \n",
       "4                                    amazing service apple talk question unless pay stupid support   "
      ]
     },
     "execution_count": 244,
     "metadata": {},
     "output_type": "execute_result"
    }
   ],
   "source": [
    "data.head()"
   ]
  },
  {
   "cell_type": "code",
   "execution_count": 264,
   "id": "5f443de3",
   "metadata": {},
   "outputs": [],
   "source": [
    "Xtrain, Xtest, ytrain, ytest = train_test_split(data['cleaned_tweets_w/o_SW'], data['label'],  test_size=0.2, random_state=42) "
   ]
  },
  {
   "cell_type": "code",
   "execution_count": 265,
   "id": "9237c76b",
   "metadata": {},
   "outputs": [
    {
     "data": {
      "text/plain": [
       "(6336,)"
      ]
     },
     "execution_count": 265,
     "metadata": {},
     "output_type": "execute_result"
    }
   ],
   "source": [
    "Xtrain.shape"
   ]
  },
  {
   "cell_type": "code",
   "execution_count": 270,
   "id": "030be56b",
   "metadata": {},
   "outputs": [],
   "source": [
    "# integer encode and pad documents\n",
    "def encode_docs(tokenizer, max_length, docs):\n",
    "    # integer encode\n",
    "    encoded = tokenizer.texts_to_sequences(docs)\n",
    "    \n",
    "    # pad sequences\n",
    "    padded = pad_sequences(encoded, maxlen=max_length, padding='post')\n",
    "    return padded"
   ]
  },
  {
   "cell_type": "code",
   "execution_count": 266,
   "id": "d418e61c",
   "metadata": {},
   "outputs": [
    {
     "name": "stdout",
     "output_type": "stream",
     "text": [
      "Vocabulary size: 5475\n",
      "Maximum length: 37\n"
     ]
    }
   ],
   "source": [
    "# define vocabulary size\n",
    "vocab_size = len(tokenizer.word_index) + 1\n",
    "print('Vocabulary size: %d' % vocab_size)\n",
    "\n",
    "# calculate the maximum sequence length\n",
    "max_length = max([len(s.split()) for s in train_docs])\n",
    "print('Maximum length: %d' % max_length)"
   ]
  },
  {
   "cell_type": "code",
   "execution_count": 267,
   "id": "9d190520",
   "metadata": {},
   "outputs": [
    {
     "data": {
      "text/plain": [
       "array([[  134,   381,  4946, ...,  4958,  4959,     0],\n",
       "       [   44,   348,    76, ...,     0,     0,     0],\n",
       "       [  954,    54,     5, ...,     0,     0,     0],\n",
       "       ...,\n",
       "       [   10,   110,    10, ...,     0,     0,     0],\n",
       "       [   44, 13830,     1, ...,     0,     0,     0],\n",
       "       [   38,    62,    46, ...,     0,     0,     0]], dtype=int32)"
      ]
     },
     "execution_count": 267,
     "metadata": {},
     "output_type": "execute_result"
    }
   ],
   "source": [
    "tokenizer = create_tokenizer(Xtrain)\n",
    "padded_docs_train = encode_docs(tokenizer, max_length, Xtrain)\n",
    "padded_docs_train"
   ]
  },
  {
   "cell_type": "code",
   "execution_count": 268,
   "id": "520711f6",
   "metadata": {},
   "outputs": [
    {
     "data": {
      "text/plain": [
       "(6336, 37)"
      ]
     },
     "execution_count": 268,
     "metadata": {},
     "output_type": "execute_result"
    }
   ],
   "source": [
    "padded_docs_train.shape"
   ]
  },
  {
   "cell_type": "code",
   "execution_count": 269,
   "id": "f4f59934",
   "metadata": {},
   "outputs": [
    {
     "data": {
      "text/plain": [
       "(1584, 37)"
      ]
     },
     "execution_count": 269,
     "metadata": {},
     "output_type": "execute_result"
    }
   ],
   "source": [
    "tokenizer = create_tokenizer(Xtest)\n",
    "padded_docs_test = encode_docs(tokenizer, max_length, Xtest)\n",
    "padded_docs_test.shape"
   ]
  },
  {
   "cell_type": "code",
   "execution_count": 282,
   "id": "6441781f",
   "metadata": {},
   "outputs": [],
   "source": [
    "# define the model\n",
    "def define_model(vocab_size, max_length):\n",
    "    model = Sequential()\n",
    "    model.add(Embedding(vocab_size, 300, input_length=max_length))\n",
    "    \n",
    "    model.add(Conv1D(filters=64, kernel_size=3, activation='relu')) # this layer does feature extraction from the text\n",
    "    model.add(MaxPooling1D(pool_size=2)) # this layer concentrates to more imp. features\n",
    "    \n",
    "    model.add(Conv1D(filters=64, kernel_size=8, activation='relu')) # this layer does feature extraction from the text\n",
    "    model.add(MaxPooling1D(pool_size=2)) # this layer concentrates to more imp. features\n",
    "    \n",
    "    model.add(Flatten()) # feature matrix is collapsed into one dimension.\n",
    "    model.add(Dense(64, activation='relu'))  # hidden layer\n",
    "    model.add(Dense(32, activation='relu'))  # hidden layer\n",
    "    \n",
    "    model.add(Dense(1, activation='sigmoid')) # output layer\n",
    "    \n",
    "    # compile network\n",
    "    model.compile(loss='binary_crossentropy', optimizer='adam', metrics=['accuracy'])\n",
    "    \n",
    "    # summarize defined model\n",
    "#     model.summary()\n",
    "    plot_model(model, to_file='model2.png', show_shapes=True)\n",
    "    \n",
    "    return model"
   ]
  },
  {
   "cell_type": "markdown",
   "id": "bed3047c",
   "metadata": {},
   "source": [
    "#model.add(Embedding(input_dim=vocab_size, output_dim=embedding_size, input_length=max_length))"
   ]
  },
  {
   "cell_type": "markdown",
   "id": "4ad7bcda",
   "metadata": {},
   "source": [
    "#### The Embedding layer takes in three arguments:\n",
    "\n",
    "- `input_dim`: the size of the vocabulary in the text data\n",
    "- `output_dim`: the size of the dense embedding vector\n",
    "- `input_length`: the maximum length of input sequences.\n",
    "\n",
    "\n",
    "The Conv1D layer takes in a few arguments:\n",
    "\n",
    "- `filters`: the number of filters to learn\n",
    "- `kernel_size`: the size of the kernel window\n",
    "- `activation`: the activation function to use\n",
    "\n",
    "\n",
    "The MaxPooling1D layer takes in one argument: `pool_size`: the size of the pooling window\n"
   ]
  },
  {
   "cell_type": "code",
   "execution_count": 283,
   "id": "fbe5d873",
   "metadata": {},
   "outputs": [
    {
     "name": "stdout",
     "output_type": "stream",
     "text": [
      "Model: \"sequential\"\n",
      "_________________________________________________________________\n",
      " Layer (type)                Output Shape              Param #   \n",
      "=================================================================\n",
      " embedding (Embedding)       (None, 37, 300)           1642500   \n",
      "                                                                 \n",
      " conv1d (Conv1D)             (None, 35, 64)            57664     \n",
      "                                                                 \n",
      " max_pooling1d (MaxPooling1D  (None, 17, 64)           0         \n",
      " )                                                               \n",
      "                                                                 \n",
      " conv1d_1 (Conv1D)           (None, 10, 64)            32832     \n",
      "                                                                 \n",
      " max_pooling1d_1 (MaxPooling  (None, 5, 64)            0         \n",
      " 1D)                                                             \n",
      "                                                                 \n",
      " flatten (Flatten)           (None, 320)               0         \n",
      "                                                                 \n",
      " dense (Dense)               (None, 64)                20544     \n",
      "                                                                 \n",
      " dense_1 (Dense)             (None, 32)                2080      \n",
      "                                                                 \n",
      " dense_2 (Dense)             (None, 1)                 33        \n",
      "                                                                 \n",
      "=================================================================\n",
      "Total params: 1,755,653\n",
      "Trainable params: 1,755,653\n",
      "Non-trainable params: 0\n",
      "_________________________________________________________________\n"
     ]
    }
   ],
   "source": [
    "# define model\n",
    "K.clear_session() \n",
    "model = define_model(vocab_size, max_length)\n",
    "model.summary()"
   ]
  },
  {
   "attachments": {
    "1d47057d-bfca-4dce-90da-8ec85394406e.png": {
     "image/png": "[encoded data removed]"
    }
   },
   "cell_type": "markdown",
   "id": "82f49e06",
   "metadata": {},
   "source": [
    "![model2.png](attachment:1d47057d-bfca-4dce-90da-8ec85394406e.png)"
   ]
  },
  {
   "cell_type": "code",
   "execution_count": 284,
   "id": "caf180d9",
   "metadata": {},
   "outputs": [
    {
     "name": "stdout",
     "output_type": "stream",
     "text": [
      "Epoch 1/25\n",
      "198/198 - 2s - loss: 0.3308 - accuracy: 0.8507 - val_loss: 0.8693 - val_accuracy: 0.7020 - 2s/epoch - 10ms/step\n",
      "Epoch 2/25\n",
      "198/198 - 1s - loss: 0.1818 - accuracy: 0.9290 - val_loss: 1.1363 - val_accuracy: 0.6976 - 1s/epoch - 6ms/step\n",
      "Epoch 3/25\n",
      "198/198 - 1s - loss: 0.1116 - accuracy: 0.9612 - val_loss: 1.5216 - val_accuracy: 0.6831 - 1s/epoch - 6ms/step\n",
      "Epoch 4/25\n",
      "198/198 - 1s - loss: 0.0673 - accuracy: 0.9784 - val_loss: 2.5807 - val_accuracy: 0.6888 - 1s/epoch - 6ms/step\n",
      "Epoch 5/25\n",
      "198/198 - 1s - loss: 0.0436 - accuracy: 0.9856 - val_loss: 2.6217 - val_accuracy: 0.6667 - 1s/epoch - 6ms/step\n",
      "Epoch 6/25\n",
      "198/198 - 1s - loss: 0.0259 - accuracy: 0.9912 - val_loss: 3.4557 - val_accuracy: 0.6919 - 1s/epoch - 7ms/step\n",
      "Epoch 7/25\n",
      "198/198 - 1s - loss: 0.0227 - accuracy: 0.9926 - val_loss: 3.8386 - val_accuracy: 0.6888 - 1s/epoch - 7ms/step\n",
      "Epoch 8/25\n",
      "198/198 - 1s - loss: 0.0155 - accuracy: 0.9953 - val_loss: 4.3717 - val_accuracy: 0.6875 - 1s/epoch - 6ms/step\n",
      "Epoch 9/25\n",
      "198/198 - 1s - loss: 0.0089 - accuracy: 0.9968 - val_loss: 4.0960 - val_accuracy: 0.6458 - 1s/epoch - 6ms/step\n",
      "Epoch 10/25\n",
      "198/198 - 1s - loss: 0.0042 - accuracy: 0.9986 - val_loss: 4.9010 - val_accuracy: 0.6679 - 1s/epoch - 7ms/step\n",
      "Epoch 11/25\n",
      "198/198 - 1s - loss: 0.0023 - accuracy: 0.9992 - val_loss: 5.5487 - val_accuracy: 0.6888 - 1s/epoch - 7ms/step\n",
      "Epoch 12/25\n",
      "198/198 - 1s - loss: 0.0023 - accuracy: 0.9991 - val_loss: 5.3738 - val_accuracy: 0.6831 - 1s/epoch - 6ms/step\n",
      "Epoch 13/25\n",
      "198/198 - 1s - loss: 0.0013 - accuracy: 0.9994 - val_loss: 5.7388 - val_accuracy: 0.6831 - 1s/epoch - 6ms/step\n",
      "Epoch 14/25\n",
      "198/198 - 1s - loss: 9.9139e-04 - accuracy: 0.9994 - val_loss: 5.9659 - val_accuracy: 0.6799 - 1s/epoch - 6ms/step\n",
      "Epoch 15/25\n",
      "198/198 - 1s - loss: 8.4343e-04 - accuracy: 0.9994 - val_loss: 6.3954 - val_accuracy: 0.6875 - 1s/epoch - 6ms/step\n",
      "Epoch 16/25\n",
      "198/198 - 1s - loss: 7.9791e-04 - accuracy: 0.9995 - val_loss: 6.5363 - val_accuracy: 0.6831 - 1s/epoch - 6ms/step\n",
      "Epoch 17/25\n",
      "198/198 - 1s - loss: 7.3754e-04 - accuracy: 0.9995 - val_loss: 6.6732 - val_accuracy: 0.6824 - 1s/epoch - 6ms/step\n",
      "Epoch 18/25\n",
      "198/198 - 1s - loss: 7.1679e-04 - accuracy: 0.9995 - val_loss: 6.9681 - val_accuracy: 0.6850 - 1s/epoch - 6ms/step\n",
      "Epoch 19/25\n",
      "198/198 - 1s - loss: 7.0870e-04 - accuracy: 0.9995 - val_loss: 7.1351 - val_accuracy: 0.6850 - 1s/epoch - 7ms/step\n",
      "Epoch 20/25\n",
      "198/198 - 1s - loss: 7.0364e-04 - accuracy: 0.9994 - val_loss: 7.3090 - val_accuracy: 0.6850 - 1s/epoch - 6ms/step\n",
      "Epoch 21/25\n",
      "198/198 - 1s - loss: 7.0600e-04 - accuracy: 0.9991 - val_loss: 7.4381 - val_accuracy: 0.6831 - 1s/epoch - 6ms/step\n",
      "Epoch 22/25\n",
      "198/198 - 1s - loss: 6.8786e-04 - accuracy: 0.9995 - val_loss: 7.6226 - val_accuracy: 0.6831 - 1s/epoch - 6ms/step\n",
      "Epoch 23/25\n",
      "198/198 - 1s - loss: 6.8295e-04 - accuracy: 0.9994 - val_loss: 7.7484 - val_accuracy: 0.6837 - 1s/epoch - 6ms/step\n",
      "Epoch 24/25\n",
      "198/198 - 1s - loss: 6.7923e-04 - accuracy: 0.9995 - val_loss: 7.9174 - val_accuracy: 0.6837 - 1s/epoch - 6ms/step\n",
      "Epoch 25/25\n",
      "198/198 - 1s - loss: 6.7551e-04 - accuracy: 0.9995 - val_loss: 8.0469 - val_accuracy: 0.6831 - 1s/epoch - 6ms/step\n"
     ]
    }
   ],
   "source": [
    "# fit network\n",
    "model.fit(padded_docs_train, ytrain, epochs=25, verbose=2, validation_data=(padded_docs_test, ytest))\n",
    "\n",
    "# save the model\n",
    "model.save('model_DL_WE.h5')"
   ]
  },
  {
   "cell_type": "code",
   "execution_count": 285,
   "id": "737a165e",
   "metadata": {},
   "outputs": [
    {
     "name": "stdout",
     "output_type": "stream",
     "text": [
      "Test Accuracy: 68.308079\n"
     ]
    }
   ],
   "source": [
    "# evaluate the model ONCe on the test set\n",
    "loss, acc = model.evaluate(padded_docs_test, ytest, verbose=0)\n",
    "print('Test Accuracy: %f' % (acc*100))"
   ]
  },
  {
   "cell_type": "code",
   "execution_count": null,
   "id": "0b127da3",
   "metadata": {},
   "outputs": [],
   "source": []
  },
  {
   "cell_type": "code",
   "execution_count": null,
   "id": "d7fe1596",
   "metadata": {},
   "outputs": [],
   "source": []
  },
  {
   "cell_type": "code",
   "execution_count": null,
   "id": "3c890f3c",
   "metadata": {},
   "outputs": [],
   "source": []
  },
  {
   "cell_type": "code",
   "execution_count": null,
   "id": "105654dd",
   "metadata": {},
   "outputs": [],
   "source": []
  },
  {
   "cell_type": "code",
   "execution_count": null,
   "id": "dc29cf18",
   "metadata": {},
   "outputs": [],
   "source": []
  },
  {
   "cell_type": "code",
   "execution_count": null,
   "id": "576936c9",
   "metadata": {},
   "outputs": [],
   "source": []
  },
  {
   "cell_type": "code",
   "execution_count": null,
   "id": "34d0525d",
   "metadata": {},
   "outputs": [],
   "source": []
  }
 ],
 "metadata": {
  "kernelspec": {
   "display_name": "Python 3 (ipykernel)",
   "language": "python",
   "name": "python3"
  },
  "language_info": {
   "codemirror_mode": {
    "name": "ipython",
    "version": 3
   },
   "file_extension": ".py",
   "mimetype": "text/x-python",
   "name": "python",
   "nbconvert_exporter": "python",
   "pygments_lexer": "ipython3",
   "version": "3.8.10"
  }
 },
 "nbformat": 4,
 "nbformat_minor": 5
}
